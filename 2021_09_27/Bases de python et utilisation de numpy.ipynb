{
 "cells": [
  {
   "cell_type": "markdown",
   "metadata": {},
   "source": [
    "# Objectifs du cours\n",
    "\n",
    "* Python 1 : Outils de bases pour les scientifiques\n",
    "* Python 2 : Programmation orientée objet. Projet informatique (second semestre)\n",
    "\n",
    "Python 1 : \n",
    "* Utilisation de numpy (aujourd'hui)\n",
    "* Approfondissement de Python\n",
    "* Statistiques, ajustement de courbes\n",
    "* Equations différentielles et calcul numérique avec la libraire scipy.\n",
    "* Transformée de Fourier\n",
    "\n",
    "* TP les 7 et 8 octobre"
   ]
  },
  {
   "cell_type": "markdown",
   "metadata": {
    "collapsed": true,
    "extensions": {
     "jupyter_dashboards": {
      "version": 1,
      "views": {
       "grid_default": {
        "col": 0,
        "height": 11,
        "hidden": false,
        "row": 10,
        "width": 12
       },
       "report_default": {}
      }
     }
    },
    "nbpresent": {
     "id": "3e40f331-3e82-4c39-be42-29befb1a98c4"
    },
    "slideshow": {
     "slide_type": "slide"
    }
   },
   "source": [
    "## Installation de Python\n",
    "\n",
    "* Il existe plusieurs interpréteurs open source de Python. Le principal est CPython\n",
    "* Il est fortement conseillé d'installer Anaconda et Python 3.8 (quelque soit le système d'exploitation)\n",
    "\n",
    "## Comment exécuter Python\n",
    "\n",
    "* **Jupyter notebook** : très pratique (compte rendu de TP, exercices, cours). Pas pour des projets\n",
    "* Spyder : éditeur de texte adapté à Python et l'environnement scientifique (à la matlab)\n",
    "* IPython (inclus dans spyder) : terminal interactif. Faire des essais avant de copier dans un programme\n",
    "* Console : interface graphique, test automatique, ...\n",
    "\n",
    "Rq : les TDs et l'examen se font sur des jupyter notebooks"
   ]
  },
  {
   "cell_type": "markdown",
   "metadata": {
    "extensions": {
     "jupyter_dashboards": {
      "version": 1,
      "views": {
       "grid_default": {
        "col": 0,
        "height": 5,
        "hidden": false,
        "row": 21,
        "width": 12
       },
       "report_default": {}
      }
     }
    },
    "slideshow": {
     "slide_type": "slide"
    }
   },
   "source": [
    "# Plan du cours\n",
    "\n",
    "Aujourd'hui : Bases de python. \n",
    "\n",
    "* Les types de bases de python\n",
    "* Structures de contrôle\n",
    "* Les fichiers\n",
    "* Les exceptions"
   ]
  },
  {
   "cell_type": "markdown",
   "metadata": {
    "slideshow": {
     "slide_type": "slide"
    }
   },
   "source": [
    "# Types de données"
   ]
  },
  {
   "cell_type": "markdown",
   "metadata": {
    "extensions": {
     "jupyter_dashboards": {
      "version": 1,
      "views": {
       "grid_default": {
        "col": 8,
        "height": 8,
        "hidden": false,
        "row": 47,
        "width": null
       },
       "report_default": {}
      }
     }
    },
    "slideshow": {
     "slide_type": "slide"
    }
   },
   "source": [
    "## Nombres\n",
    "\n",
    "* entiers : pas de limite de tailles\n",
    "* réels : flottant (float). Par défaut 64bits, précision relative de environ $10^{-15}$\n",
    "* Complexe : deux réels ; `a = 1 + 3J`\n",
    "* +, -, \\*, /, \\*\\* (puissance)\n",
    "* Modulo, division entière"
   ]
  },
  {
   "cell_type": "code",
   "execution_count": 2,
   "metadata": {},
   "outputs": [
    {
     "data": {
      "text/plain": [
       "44601490397061246283071436545296723011960832"
      ]
     },
     "execution_count": 2,
     "metadata": {},
     "output_type": "execute_result"
    }
   ],
   "source": [
    "2**145"
   ]
  },
  {
   "cell_type": "code",
   "execution_count": 7,
   "metadata": {},
   "outputs": [
    {
     "data": {
      "text/plain": [
       "1.1102230246251565e-15"
      ]
     },
     "execution_count": 7,
     "metadata": {},
     "output_type": "execute_result"
    }
   ],
   "source": [
    "(1.0 + 1E-15) - 1"
   ]
  },
  {
   "cell_type": "code",
   "execution_count": 1,
   "metadata": {},
   "outputs": [
    {
     "name": "stdout",
     "output_type": "stream",
     "text": [
      "16\n"
     ]
    }
   ],
   "source": [
    "a = 4\n",
    "print(a**2)"
   ]
  },
  {
   "cell_type": "code",
   "execution_count": 14,
   "metadata": {
    "extensions": {
     "jupyter_dashboards": {
      "version": 1,
      "views": {
       "grid_default": {
        "hidden": true
       },
       "report_default": {}
      }
     }
    }
   },
   "outputs": [
    {
     "name": "stdout",
     "output_type": "stream",
     "text": [
      "3.0\n"
     ]
    }
   ],
   "source": [
    "z = 1 + 3J\n",
    "print(z.imag)"
   ]
  },
  {
   "cell_type": "code",
   "execution_count": 15,
   "metadata": {},
   "outputs": [
    {
     "data": {
      "text/plain": [
       "1.0"
      ]
     },
     "execution_count": 15,
     "metadata": {},
     "output_type": "execute_result"
    }
   ],
   "source": [
    "z.real"
   ]
  },
  {
   "cell_type": "code",
   "execution_count": 16,
   "metadata": {},
   "outputs": [
    {
     "data": {
      "text/plain": [
       "3.0"
      ]
     },
     "execution_count": 16,
     "metadata": {},
     "output_type": "execute_result"
    }
   ],
   "source": [
    "(1+3J).imag"
   ]
  },
  {
   "cell_type": "code",
   "execution_count": 13,
   "metadata": {},
   "outputs": [
    {
     "ename": "NameError",
     "evalue": "name 'T1' is not defined",
     "output_type": "error",
     "traceback": [
      "\u001b[0;31m---------------------------------------------------------------------------\u001b[0m",
      "\u001b[0;31mNameError\u001b[0m                                 Traceback (most recent call last)",
      "\u001b[0;32m<ipython-input-13-274b7731451a>\u001b[0m in \u001b[0;36m<module>\u001b[0;34m\u001b[0m\n\u001b[0;32m----> 1\u001b[0;31m \u001b[0mT1\u001b[0m\u001b[0;34m\u001b[0m\u001b[0;34m\u001b[0m\u001b[0m\n\u001b[0m",
      "\u001b[0;31mNameError\u001b[0m: name 'T1' is not defined"
     ]
    }
   ],
   "source": [
    "T1"
   ]
  },
  {
   "cell_type": "code",
   "execution_count": 11,
   "metadata": {},
   "outputs": [],
   "source": [
    "a_1 = 13"
   ]
  },
  {
   "cell_type": "code",
   "execution_count": 17,
   "metadata": {},
   "outputs": [
    {
     "name": "stdout",
     "output_type": "stream",
     "text": [
      "1\n",
      "2\n"
     ]
    }
   ],
   "source": [
    "print(5%2)\n",
    "print(5//2)"
   ]
  },
  {
   "cell_type": "markdown",
   "metadata": {
    "extensions": {
     "jupyter_dashboards": {
      "version": 1,
      "views": {
       "grid_default": {
        "col": 0,
        "height": 5,
        "hidden": false,
        "row": 55,
        "width": 12
       },
       "report_default": {}
      }
     }
    },
    "slideshow": {
     "slide_type": "slide"
    }
   },
   "source": [
    "## Booléens \n",
    "\n",
    "* `True` et `False`\n",
    "* Comparaison : `>`, `>=`, `==`, `<=`,  `<`, `!=`\n",
    "* Opérations : and, or et not (attention aux priorités)\n",
    "* \"évaluation paresseuse\""
   ]
  },
  {
   "cell_type": "code",
   "execution_count": 18,
   "metadata": {},
   "outputs": [
    {
     "data": {
      "text/plain": [
       "False"
      ]
     },
     "execution_count": 18,
     "metadata": {},
     "output_type": "execute_result"
    }
   ],
   "source": [
    "(3>4)"
   ]
  },
  {
   "cell_type": "code",
   "execution_count": null,
   "metadata": {},
   "outputs": [],
   "source": []
  },
  {
   "cell_type": "code",
   "execution_count": 19,
   "metadata": {},
   "outputs": [
    {
     "data": {
      "text/plain": [
       "5"
      ]
     },
     "execution_count": 19,
     "metadata": {},
     "output_type": "execute_result"
    }
   ],
   "source": [
    "# a and b => si a return b else return False\n"
   ]
  },
  {
   "cell_type": "code",
   "execution_count": 21,
   "metadata": {
    "extensions": {
     "jupyter_dashboards": {
      "version": 1,
      "views": {
       "grid_default": {
        "hidden": true
       },
       "report_default": {}
      }
     }
    },
    "scrolled": true
   },
   "outputs": [
    {
     "ename": "ValueError",
     "evalue": "math domain error",
     "output_type": "error",
     "traceback": [
      "\u001b[0;31m---------------------------------------------------------------------------\u001b[0m",
      "\u001b[0;31mValueError\u001b[0m                                Traceback (most recent call last)",
      "\u001b[0;32m<ipython-input-21-c02b465406b9>\u001b[0m in \u001b[0;36m<module>\u001b[0;34m\u001b[0m\n\u001b[1;32m      7\u001b[0m \u001b[0;31m# else:\u001b[0m\u001b[0;34m\u001b[0m\u001b[0;34m\u001b[0m\u001b[0;34m\u001b[0m\u001b[0m\n\u001b[1;32m      8\u001b[0m \u001b[0;31m#    return False\u001b[0m\u001b[0;34m\u001b[0m\u001b[0;34m\u001b[0m\u001b[0;34m\u001b[0m\u001b[0m\n\u001b[0;32m----> 9\u001b[0;31m \u001b[0;34m(\u001b[0m\u001b[0mx\u001b[0m\u001b[0;34m>=\u001b[0m\u001b[0;36m0\u001b[0m\u001b[0;34m)\u001b[0m \u001b[0;34m&\u001b[0m \u001b[0;34m(\u001b[0m\u001b[0msqrt\u001b[0m\u001b[0;34m(\u001b[0m\u001b[0mx\u001b[0m\u001b[0;34m)\u001b[0m\u001b[0;34m>\u001b[0m\u001b[0;36m2\u001b[0m\u001b[0;34m)\u001b[0m\u001b[0;34m\u001b[0m\u001b[0;34m\u001b[0m\u001b[0m\n\u001b[0m",
      "\u001b[0;31mValueError\u001b[0m: math domain error"
     ]
    }
   ],
   "source": [
    "from math import sqrt\n",
    "x = -1\n",
    "\n",
    "x>=0 and sqrt(x)>2\n",
    "#if x>0:\n",
    "#    return sqrt(x)\n",
    "# else:\n",
    "#    return False\n",
    "(x>=0) & (sqrt(x)>2)"
   ]
  },
  {
   "cell_type": "markdown",
   "metadata": {
    "extensions": {
     "jupyter_dashboards": {
      "version": 1,
      "views": {
       "grid_default": {
        "col": 4,
        "height": 4,
        "hidden": false,
        "row": 51,
        "width": 4
       },
       "report_default": {}
      }
     }
    },
    "slideshow": {
     "slide_type": "slide"
    }
   },
   "source": [
    "## Chaînes de caractères (str)\n",
    "* Plusieurs façon d'écrire une chaine : \", ', \"\"\", ''' .\n",
    "* Caractère spéciaux : \\\\n (retour à la ligne), \\\\t (tabulation)\n",
    "* Unicode\n",
    "* Concaténation \n",
    "* Quelques méthodes sur les chaînes\n",
    "* Formatage de chaîne de caractère"
   ]
  },
  {
   "cell_type": "code",
   "execution_count": 23,
   "metadata": {
    "extensions": {
     "jupyter_dashboards": {
      "version": 1,
      "views": {
       "grid_default": {
        "col": 0,
        "height": 4,
        "hidden": false,
        "row": 60,
        "width": 4
       },
       "report_default": {}
      }
     }
    }
   },
   "outputs": [
    {
     "name": "stdout",
     "output_type": "stream",
     "text": [
      "e\n",
      "err\n",
      "Bonjour Pierre\n"
     ]
    },
    {
     "data": {
      "text/plain": [
       "\"Aujourd'hui\""
      ]
     },
     "execution_count": 23,
     "metadata": {},
     "output_type": "execute_result"
    }
   ],
   "source": [
    "s0 = 'Bonjour'\n",
    "s1 = \"Pierre\"\n",
    "s2 = \"Aujourd'hui\"\n",
    "print(s1[2])\n",
    "print(s1[2:5])\n",
    "print(s0 + ' ' + s1) # Concaténation\n",
    "'Aujourd\\'hui'"
   ]
  },
  {
   "cell_type": "code",
   "execution_count": 25,
   "metadata": {},
   "outputs": [
    {
     "name": "stdout",
     "output_type": "stream",
     "text": [
      "Une chaine\n",
      "sur plusieurs \n",
      "lignes\n"
     ]
    }
   ],
   "source": [
    "s3 = \"\"\"Une chaine\n",
    "sur plusieurs \n",
    "lignes\"\"\"\n",
    "\n",
    "print(s3)"
   ]
  },
  {
   "cell_type": "code",
   "execution_count": null,
   "metadata": {},
   "outputs": [],
   "source": []
  },
  {
   "cell_type": "code",
   "execution_count": 28,
   "metadata": {},
   "outputs": [
    {
     "name": "stdout",
     "output_type": "stream",
     "text": [
      "Rayon γ\n",
      "Rayon γ\n"
     ]
    },
    {
     "data": {
      "text/plain": [
       "13"
      ]
     },
     "execution_count": 28,
     "metadata": {},
     "output_type": "execute_result"
    }
   ],
   "source": [
    "print(\"Rayon \\u03B3\")\n",
    "print(\"Rayon γ\")\n",
    "α = 13\n",
    "α"
   ]
  },
  {
   "cell_type": "code",
   "execution_count": 31,
   "metadata": {},
   "outputs": [
    {
     "data": {
      "text/plain": [
       "'PIERRE'"
      ]
     },
     "execution_count": 31,
     "metadata": {},
     "output_type": "execute_result"
    }
   ],
   "source": [
    "s1 = 'pierre'\n",
    "s1.upper()"
   ]
  },
  {
   "cell_type": "code",
   "execution_count": 34,
   "metadata": {},
   "outputs": [
    {
     "name": "stdout",
     "output_type": "stream",
     "text": [
      "Brnjrur\n",
      "['1', '2', '4', '3']\n",
      "1,45\n",
      "True\n"
     ]
    }
   ],
   "source": [
    "# Quelques méthodes \n",
    "s = 'Bonjour'\n",
    "print(s.replace('o', 'r'))\n",
    "s = \"1;2;4;3\"\n",
    "print(s.split(';'))\n",
    "print(','.join(['1', '45']))\n",
    "\n",
    "s = 'monfichier.txt'\n",
    "print(s.endswith('.txt'))"
   ]
  },
  {
   "cell_type": "markdown",
   "metadata": {},
   "source": [
    "### Formatage\n",
    "Mettre une variable dans une chaîne de caractère\n",
    "\n",
    "On utilise la méthode .format (ancienne syntaxe avec le %). On utilise des accolades. \n",
    "\n",
    "On peut préciser: \n",
    "* le nom de l'argument (keyword argument)\n",
    "* le type d'écriture : entier (d), virgule fixe (f), notation scientifique\n",
    "* la précision\n",
    "\n",
    "Exemple {name:8.3f} : \n",
    "* argument : name\n",
    "* virgule fixe\n",
    "* taille totale 8\n",
    "* 3 chiffres après la virgule\n",
    "\n"
   ]
  },
  {
   "cell_type": "code",
   "execution_count": 40,
   "metadata": {},
   "outputs": [
    {
     "name": "stdout",
     "output_type": "stream",
     "text": [
      "La valeur de pi est +3.142\n",
      "La vitesse de la lumière est c=2.998e+08 m/s\n",
      "La valeur de pi est 3.142\n"
     ]
    }
   ],
   "source": [
    "# Formatage \n",
    "from math import pi\n",
    "print('La valeur de pi est {:+.3f}'.format(pi))\n",
    "\n",
    "c = 299792458\n",
    "print('La vitesse de la lumière est c={c:.3e} m/s'.format(c=c))\n",
    "\n",
    "# Format string\n",
    "print(f'La valeur de pi est {pi:.3f}')"
   ]
  },
  {
   "cell_type": "markdown",
   "metadata": {
    "extensions": {
     "jupyter_dashboards": {
      "version": 1,
      "views": {
       "grid_default": {
        "col": 0,
        "height": 6,
        "hidden": false,
        "row": 64,
        "width": 12
       },
       "report_default": {}
      }
     }
    },
    "slideshow": {
     "slide_type": "slide"
    }
   },
   "source": [
    "## Les listes\n",
    "\n",
    "* Elles peuvent contenir n'importe quel type de donnée\n",
    "* Les indices commencent par 0\n",
    "* Index négatif : par la fin (modulo la taille de la liste)\n",
    "* iterateur : par exemple `range`. "
   ]
  },
  {
   "cell_type": "code",
   "execution_count": 44,
   "metadata": {
    "extensions": {
     "jupyter_dashboards": {
      "version": 1,
      "views": {
       "grid_default": {
        "col": 4,
        "height": 4,
        "hidden": false,
        "row": 60,
        "width": 4
       },
       "report_default": {}
      }
     }
    }
   },
   "outputs": [
    {
     "name": "stdout",
     "output_type": "stream",
     "text": [
      "None\n"
     ]
    }
   ],
   "source": [
    "l = ['Pierre', 34, 3.1415]\n",
    "#print(l[-1])\n",
    "print(l.append(25))"
   ]
  },
  {
   "cell_type": "markdown",
   "metadata": {},
   "source": [
    "La méthode .append() modifie la liste. C'est toujours la même liste (comme on rajoute une page dans un classeur)."
   ]
  },
  {
   "cell_type": "code",
   "execution_count": 45,
   "metadata": {},
   "outputs": [
    {
     "data": {
      "text/plain": [
       "['Pierre', <function print>, 34, 3.1415, 25]"
      ]
     },
     "execution_count": 45,
     "metadata": {},
     "output_type": "execute_result"
    }
   ],
   "source": [
    "l.insert(1, print)\n",
    "l"
   ]
  },
  {
   "cell_type": "code",
   "execution_count": 46,
   "metadata": {},
   "outputs": [
    {
     "data": {
      "text/plain": [
       "['Pierre', <function print>, 34, 3.1415, 25, [...]]"
      ]
     },
     "execution_count": 46,
     "metadata": {},
     "output_type": "execute_result"
    }
   ],
   "source": [
    "l.append(l)\n",
    "l"
   ]
  },
  {
   "cell_type": "markdown",
   "metadata": {
    "extensions": {
     "jupyter_dashboards": {
      "version": 1,
      "views": {
       "grid_default": {
        "col": 0,
        "height": 5,
        "hidden": false,
        "row": 70,
        "width": 12
       },
       "report_default": {}
      }
     }
    },
    "slideshow": {
     "slide_type": "slide"
    }
   },
   "source": [
    "## Créer une liste à partir d'une autre liste\n",
    "\n",
    "* Boucle `for`\n",
    "* Liste comprehension []\n",
    "* `list.append` : méthode de l'objet liste"
   ]
  },
  {
   "cell_type": "code",
   "execution_count": 49,
   "metadata": {
    "extensions": {
     "jupyter_dashboards": {
      "version": 1,
      "views": {
       "grid_default": {
        "col": 8,
        "height": 4,
        "hidden": false,
        "row": 60,
        "width": 4
       },
       "report_default": {}
      }
     }
    }
   },
   "outputs": [
    {
     "name": "stdout",
     "output_type": "stream",
     "text": [
      "[1, 1156, 529, 4.0]\n"
     ]
    },
    {
     "data": {
      "text/plain": [
       "[1, 1156, 529, 4.0]"
      ]
     },
     "execution_count": 49,
     "metadata": {},
     "output_type": "execute_result"
    }
   ],
   "source": [
    "liste_initiale = [1, 34, 23, 2.]\n",
    "\n",
    "liste_finale = []\n",
    "for elm in liste_initiale:\n",
    "#    print(elm)\n",
    "    liste_finale.append(elm**2)\n",
    "print(liste_finale)\n",
    "\n",
    "[elm**2 for elm in liste_initiale]"
   ]
  },
  {
   "cell_type": "markdown",
   "metadata": {},
   "source": [
    "## Parcourir une liste\n",
    "* ``for``\n",
    "* enumerate\n",
    "* zip"
   ]
  },
  {
   "cell_type": "code",
   "execution_count": 52,
   "metadata": {},
   "outputs": [
    {
     "name": "stdout",
     "output_type": "stream",
     "text": [
      "Dupont\n",
      "Martin\n",
      "Dubois\n",
      "Le nom numéro 0 est Dupont\n",
      "Le nom numéro 1 est Martin\n",
      "Le nom numéro 2 est Dubois\n"
     ]
    }
   ],
   "source": [
    "ma_liste = ['Dupont', 'Martin', 'Dubois']\n",
    "for name in ma_liste:\n",
    "    print(name)\n",
    "    \n",
    "for i, name in enumerate(ma_liste):\n",
    "    print(f'Le nom numéro {i} est {name}')"
   ]
  },
  {
   "cell_type": "code",
   "execution_count": 53,
   "metadata": {},
   "outputs": [
    {
     "name": "stdout",
     "output_type": "stream",
     "text": [
      "Dupont a 12 ans.\n",
      "Martin a 35 ans.\n",
      "Dubois a 23 ans.\n"
     ]
    }
   ],
   "source": [
    "liste_age = [12, 35, 23]\n",
    "for age, name in zip(liste_age, ma_liste):\n",
    "    print(f\"{name} a {age} ans.\")"
   ]
  },
  {
   "cell_type": "markdown",
   "metadata": {
    "extensions": {
     "jupyter_dashboards": {
      "version": 1,
      "views": {
       "grid_default": {
        "col": 0,
        "height": 6,
        "hidden": false,
        "row": 36,
        "width": 12
       },
       "report_default": {}
      }
     }
    },
    "slideshow": {
     "slide_type": "slide"
    }
   },
   "source": [
    "# Structures de contrôle\n",
    "\n",
    "## Boucles \n",
    "* while\n",
    "* for (voir les listes)\n",
    "\n",
    "## Tests \n",
    "* if, elif, else\n",
    "\n",
    "## Fonctions \n",
    "\n",
    "```\n",
    "def nom_fonction(arg1, arg2, ...):\n",
    "       ...\n",
    "       return out1, out2\n",
    "```\n",
    "\n",
    "* Argument optionel, argument nommé\n",
    "* Il peut y avoir plusieurs return au sein d'une fonction\n",
    "* Documentation ≠ commentaire"
   ]
  },
  {
   "cell_type": "code",
   "execution_count": 60,
   "metadata": {
    "extensions": {
     "jupyter_dashboards": {
      "version": 1,
      "views": {
       "grid_default": {
        "hidden": true
       },
       "report_default": {}
      }
     }
    },
    "slideshow": {
     "slide_type": "-"
    }
   },
   "outputs": [
    {
     "data": {
      "text/plain": [
       "2.71827876984127"
      ]
     },
     "execution_count": 60,
     "metadata": {},
     "output_type": "execute_result"
    }
   ],
   "source": [
    "def exponentielle(x, precision=1E-9):\n",
    "    \"\"\" Calcule e**x\n",
    "    \n",
    "    Utilise le dl sum(x**n/n!)\n",
    "    \n",
    "    Arguments : \n",
    "        x : nombre dont on calcule exp\n",
    "        precision : precision du calcul\n",
    "    \"\"\"\n",
    "    result = 0\n",
    "    n = 1\n",
    "    term = 1 # Initial value\n",
    "    while abs(term)>precision :\n",
    "        result = result + term\n",
    "        term = term * x/n\n",
    "        n = n+1\n",
    "    return result\n",
    "    \n",
    "#print(2*exponentielle(2.1, 1E-6))\n",
    "#print(exponentielle(2.1))\n",
    "#print(exponentielle(2.1, precision=1E-6))\n",
    "exponentielle(1, precision=1e-5)"
   ]
  },
  {
   "cell_type": "code",
   "execution_count": 62,
   "metadata": {},
   "outputs": [],
   "source": [
    "# Ne pas faire \n",
    "lt = 35 # largeur de la table"
   ]
  },
  {
   "cell_type": "markdown",
   "metadata": {},
   "source": [
    "# Les tableaux `numpy`\n",
    "\n",
    "* `numpy` est la librairie qui permet de manipuler de larges tableaux de données\n",
    "* Elle évite de devoir faire des boucles\n",
    "* Elle contient des fonctions qui ne sont pas dans math\n",
    "* En pratique, on n'utilise jamais le module math\n",
    "\n",
    "## Plusieurs utilisations :\n",
    "* simulations numériques\n",
    "* données expérimentales\n",
    "* graph\n",
    "\n",
    "## Remarque:\n",
    "Taille fixée à la création. Tous les éléments de même type et de type fini (int64 pour les entiers)"
   ]
  },
  {
   "cell_type": "code",
   "execution_count": 64,
   "metadata": {},
   "outputs": [],
   "source": [
    "from numpy import *\n",
    "import numpy as np"
   ]
  },
  {
   "cell_type": "code",
   "execution_count": 65,
   "metadata": {},
   "outputs": [
    {
     "data": {
      "text/plain": [
       "array([ 0.        ,  0.84147098,  0.90929743,  0.14112001, -0.7568025 ,\n",
       "       -0.95892427, -0.2794155 ,  0.6569866 ,  0.98935825,  0.41211849])"
      ]
     },
     "execution_count": 65,
     "metadata": {},
     "output_type": "execute_result"
    }
   ],
   "source": [
    "# Examples\n",
    "a = np.arange(10)\n",
    "np.sin(a)"
   ]
  },
  {
   "cell_type": "code",
   "execution_count": 69,
   "metadata": {},
   "outputs": [],
   "source": [
    "# Il ne faut pas utiliser le module math avec des tableaux numpy\n",
    "import math\n",
    "\n",
    "#a = np.array([1, 5, 9])\n",
    "#math.sin(a)"
   ]
  },
  {
   "cell_type": "code",
   "execution_count": 70,
   "metadata": {},
   "outputs": [
    {
     "name": "stdout",
     "output_type": "stream",
     "text": [
      "634 µs ± 95 µs per loop (mean ± std. dev. of 7 runs, 1000 loops each)\n",
      "132 ms ± 209 µs per loop (mean ± std. dev. of 7 runs, 10 loops each)\n"
     ]
    }
   ],
   "source": [
    "# Comparaison de la vitesse entre une liste et un tableau \n",
    "a = np.random.rand(1000000)\n",
    "\n",
    "%timeit a**2\n",
    "\n",
    "def carre(x):\n",
    "    return [elm**2 for elm in x]\n",
    "b = list(a)\n",
    "\n",
    "%timeit carre(b)"
   ]
  },
  {
   "cell_type": "code",
   "execution_count": 71,
   "metadata": {},
   "outputs": [
    {
     "name": "stdout",
     "output_type": "stream",
     "text": [
      "172 ms ± 1.83 ms per loop (mean ± std. dev. of 7 runs, 10 loops each)\n"
     ]
    }
   ],
   "source": [
    "# Boucle for avec un tableau\n",
    "def carre_boucle(x):\n",
    "    out = np.zeros(len(x))\n",
    "    for i in range(len(x)):\n",
    "        out[i] = x[i]**2\n",
    "    return out\n",
    "\n",
    "%timeit carre_boucle(b)"
   ]
  },
  {
   "cell_type": "markdown",
   "metadata": {},
   "source": [
    "# Avantages (et inconvénients) des tableaux\n",
    "* La taille et le type de donnée est fixé à la création du tableau\n",
    "\n"
   ]
  },
  {
   "cell_type": "code",
   "execution_count": 73,
   "metadata": {},
   "outputs": [
    {
     "data": {
      "text/plain": [
       "array([1.  +0.j, 3.14+0.j, 4.  +0.j])"
      ]
     },
     "execution_count": 73,
     "metadata": {},
     "output_type": "execute_result"
    }
   ],
   "source": [
    "a = np.array([1, 2, 4], dtype='complex')\n",
    "a[1] = 3.14\n",
    "\n",
    "\n",
    "a"
   ]
  },
  {
   "cell_type": "code",
   "execution_count": 75,
   "metadata": {},
   "outputs": [
    {
     "data": {
      "text/plain": [
       "array([12,  2,  4])"
      ]
     },
     "execution_count": 75,
     "metadata": {},
     "output_type": "execute_result"
    }
   ],
   "source": [
    "a = np.array([1, 2, 4])\n",
    "a[0] = 12.424\n",
    "a"
   ]
  },
  {
   "cell_type": "code",
   "execution_count": 77,
   "metadata": {},
   "outputs": [
    {
     "data": {
      "text/plain": [
       "array([0., 1., 2., 3., 4., 5., 6., 7., 8., 9.])"
      ]
     },
     "execution_count": 77,
     "metadata": {},
     "output_type": "execute_result"
    }
   ],
   "source": [
    "np.arange(10, dtype='float')"
   ]
  },
  {
   "cell_type": "markdown",
   "metadata": {},
   "source": [
    "# Création d'un tableau\n",
    "Il existe plusieurs fonctions pour créer un tableau.\n",
    "\n",
    "* array :  partir d'une liste\n",
    "* zeros, ones, eye\n",
    "* arange\n",
    "* linspace, logspace\n",
    "* np.random.rand, ...\n",
    "* loadtxt\n",
    "* load/save\n",
    "\n",
    "Le type est déterminé automatiquement. On peut le forcer avec l'argument dtype"
   ]
  },
  {
   "cell_type": "code",
   "execution_count": 79,
   "metadata": {},
   "outputs": [
    {
     "data": {
      "text/plain": [
       "array([0.        , 0.11111111, 0.22222222, 0.33333333, 0.44444444,\n",
       "       0.55555556, 0.66666667, 0.77777778, 0.88888889, 1.        ])"
      ]
     },
     "execution_count": 79,
     "metadata": {},
     "output_type": "execute_result"
    }
   ],
   "source": [
    "linspace(start=0, stop=1, num=10)"
   ]
  },
  {
   "cell_type": "code",
   "execution_count": 80,
   "metadata": {},
   "outputs": [
    {
     "data": {
      "text/plain": [
       "array([  1.        ,   1.58489319,   2.51188643,   3.98107171,\n",
       "         6.30957344,  10.        ,  15.84893192,  25.11886432,\n",
       "        39.81071706,  63.09573445, 100.        ])"
      ]
     },
     "execution_count": 80,
     "metadata": {},
     "output_type": "execute_result"
    }
   ],
   "source": [
    "logspace(0, 2, 11)"
   ]
  },
  {
   "cell_type": "code",
   "execution_count": 82,
   "metadata": {},
   "outputs": [
    {
     "data": {
      "text/plain": [
       "array([0.90658076, 1.11398766, 1.10048681, 0.98594407, 0.88126721])"
      ]
     },
     "execution_count": 82,
     "metadata": {},
     "output_type": "execute_result"
    }
   ],
   "source": [
    "np.random.normal(loc=1, scale=.1, size=5)"
   ]
  },
  {
   "cell_type": "code",
   "execution_count": 86,
   "metadata": {},
   "outputs": [
    {
     "data": {
      "text/plain": [
       "array([1.15199874, 1.10609476, 1.06479221, 1.16211909, 0.94786923])"
      ]
     },
     "execution_count": 86,
     "metadata": {},
     "output_type": "execute_result"
    }
   ],
   "source": [
    "a = np.random.normal(loc=1, scale=.1, size=5)\n",
    "np.savetxt('test.txt', a)\n",
    "\n",
    "b = np.loadtxt('test.txt')\n",
    "b"
   ]
  },
  {
   "cell_type": "code",
   "execution_count": 87,
   "metadata": {},
   "outputs": [],
   "source": [
    "a = np.random.normal(loc=1, scale=.1, size=1000000)\n",
    "np.savetxt('test_long.txt', a)\n"
   ]
  },
  {
   "cell_type": "code",
   "execution_count": 88,
   "metadata": {},
   "outputs": [
    {
     "name": "stdout",
     "output_type": "stream",
     "text": [
      "1.62 s ± 99 ms per loop (mean ± std. dev. of 7 runs, 1 loop each)\n"
     ]
    }
   ],
   "source": [
    "%timeit np.loadtxt('test_long.txt')"
   ]
  },
  {
   "cell_type": "code",
   "execution_count": 91,
   "metadata": {},
   "outputs": [],
   "source": [
    "np.loadtxt?"
   ]
  },
  {
   "cell_type": "code",
   "execution_count": 89,
   "metadata": {},
   "outputs": [],
   "source": [
    "a = np.random.normal(loc=1, scale=.1, size=1000000)\n",
    "np.save('test_long.npy', a)\n"
   ]
  },
  {
   "cell_type": "code",
   "execution_count": 90,
   "metadata": {},
   "outputs": [
    {
     "name": "stdout",
     "output_type": "stream",
     "text": [
      "802 µs ± 31 µs per loop (mean ± std. dev. of 7 runs, 1000 loops each)\n"
     ]
    }
   ],
   "source": [
    "%timeit np.load('test_long.npy')"
   ]
  },
  {
   "cell_type": "markdown",
   "metadata": {},
   "source": [
    "# Fonctions vectorisées\n",
    "C'est une fonction qui calcule sur un tableau élément par élément"
   ]
  },
  {
   "cell_type": "code",
   "execution_count": 92,
   "metadata": {},
   "outputs": [],
   "source": [
    "x = np.linspace(-1, 1, 51, endpoint=False)*np.pi"
   ]
  },
  {
   "cell_type": "code",
   "execution_count": 93,
   "metadata": {},
   "outputs": [
    {
     "data": {
      "text/plain": [
       "array([1., 1., 1., 1., 1., 1., 1., 1., 1., 1., 1., 1., 1., 1., 1., 1., 1.,\n",
       "       1., 1., 1., 1., 1., 1., 1., 1., 1., 1., 1., 1., 1., 1., 1., 1., 1.,\n",
       "       1., 1., 1., 1., 1., 1., 1., 1., 1., 1., 1., 1., 1., 1., 1., 1., 1.])"
      ]
     },
     "execution_count": 93,
     "metadata": {},
     "output_type": "execute_result"
    }
   ],
   "source": [
    "# Souvent il n'y a rien a faire\n",
    "np.sin(x)\n",
    "\n",
    "def ma_fonction(x):\n",
    "    return np.sin(x)**2 + np.cos(x)**2\n",
    "ma_fonction(x)"
   ]
  },
  {
   "cell_type": "code",
   "execution_count": 95,
   "metadata": {},
   "outputs": [
    {
     "data": {
      "text/plain": [
       "array([1.        , 0.95918367, 0.91836735, 0.87755102, 0.83673469,\n",
       "       0.79591837, 0.75510204, 0.71428571, 0.67346939, 0.63265306,\n",
       "       0.59183673, 0.55102041, 0.51020408, 0.46938776, 0.42857143,\n",
       "       0.3877551 , 0.34693878, 0.30612245, 0.26530612, 0.2244898 ,\n",
       "       0.18367347, 0.14285714, 0.10204082, 0.06122449, 0.02040816,\n",
       "       0.02040816, 0.06122449, 0.10204082, 0.14285714, 0.18367347,\n",
       "       0.2244898 , 0.26530612, 0.30612245, 0.34693878, 0.3877551 ,\n",
       "       0.42857143, 0.46938776, 0.51020408, 0.55102041, 0.59183673,\n",
       "       0.63265306, 0.67346939, 0.71428571, 0.75510204, 0.79591837,\n",
       "       0.83673469, 0.87755102, 0.91836735, 0.95918367, 1.        ])"
      ]
     },
     "execution_count": 95,
     "metadata": {},
     "output_type": "execute_result"
    }
   ],
   "source": [
    "# Sinon, vectorize\n",
    "# Mais il existe des solutions pour éviter d'avoir à \n",
    "# l'utiliser (c.f. prochaine partie)\n",
    "def mafonction_simple(a):\n",
    "#    print('Bonjour')\n",
    "    if a>0:\n",
    "        return a\n",
    "    else:\n",
    "        return -a\n",
    "\n",
    "#mafonction_simple(np.linspace(-1, 1))\n",
    "mafonction = np.vectorize(mafonction_simple)\n",
    "mafonction(np.linspace(-1, 1))\n",
    "# On peut utiliser un décorateur"
   ]
  },
  {
   "cell_type": "code",
   "execution_count": 96,
   "metadata": {},
   "outputs": [
    {
     "ename": "ValueError",
     "evalue": "The truth value of an array with more than one element is ambiguous. Use a.any() or a.all()",
     "output_type": "error",
     "traceback": [
      "\u001b[0;31m---------------------------------------------------------------------------\u001b[0m",
      "\u001b[0;31mValueError\u001b[0m                                Traceback (most recent call last)",
      "\u001b[0;32m<ipython-input-96-f039710a8284>\u001b[0m in \u001b[0;36m<module>\u001b[0;34m\u001b[0m\n\u001b[1;32m      1\u001b[0m \u001b[0;31m# Il faut connaitre l'origine de cette erreur\u001b[0m\u001b[0;34m\u001b[0m\u001b[0;34m\u001b[0m\u001b[0;34m\u001b[0m\u001b[0m\n\u001b[0;32m----> 2\u001b[0;31m \u001b[0;32mif\u001b[0m \u001b[0mx\u001b[0m\u001b[0;34m>\u001b[0m\u001b[0;36m0\u001b[0m\u001b[0;34m:\u001b[0m\u001b[0;34m\u001b[0m\u001b[0;34m\u001b[0m\u001b[0m\n\u001b[0m\u001b[1;32m      3\u001b[0m     \u001b[0mprint\u001b[0m\u001b[0;34m(\u001b[0m\u001b[0;34m'Bonjour'\u001b[0m\u001b[0;34m)\u001b[0m\u001b[0;34m\u001b[0m\u001b[0;34m\u001b[0m\u001b[0m\n",
      "\u001b[0;31mValueError\u001b[0m: The truth value of an array with more than one element is ambiguous. Use a.any() or a.all()"
     ]
    }
   ],
   "source": [
    "# Il faut connaitre l'origine de cette erreur\n",
    "if x>0:\n",
    "    print('Bonjour')"
   ]
  },
  {
   "cell_type": "markdown",
   "metadata": {},
   "source": [
    "## Fonctions utiles de numpy\n",
    "\n",
    "* Fonction mathématique véctorisée: `sin`, `cos`, `tan`, `exp`, `log`, `arcsin`, `arccos`, `arctan`, `arctan2`, ...\n",
    "* Fonction sur les tableaux : `mean`, `min`, `max`, `sum`, `prod`, `std`, `var`\n",
    "* Tri : `sort`, `argsort`\n",
    "\n",
    "De façon générale, toutes les opérations usuelles existent, il faut juste trouver le bonne fonction !\n",
    "\n"
   ]
  },
  {
   "cell_type": "code",
   "execution_count": 98,
   "metadata": {},
   "outputs": [
    {
     "data": {
      "text/plain": [
       "0.7744770094089056"
      ]
     },
     "execution_count": 98,
     "metadata": {},
     "output_type": "execute_result"
    }
   ],
   "source": [
    "a = np.random.rand(10)\n",
    "a.max() # method\n",
    "np.max(a) # fonction"
   ]
  },
  {
   "cell_type": "code",
   "execution_count": 100,
   "metadata": {},
   "outputs": [
    {
     "data": {
      "text/plain": [
       "-2.356194490192345"
      ]
     },
     "execution_count": 100,
     "metadata": {},
     "output_type": "execute_result"
    }
   ],
   "source": [
    "np.arctan2(-1, -1)"
   ]
  },
  {
   "cell_type": "markdown",
   "metadata": {},
   "source": [
    "# Indexer un tableau\n",
    "\n",
    "* Slices \n",
    "    * Tous les éléments sauf le premier\n",
    "    * Sauf le dernier\n",
    "    * Un élément sur deux\n",
    "* Indexer avec un tableau d'entier\n",
    "* Indexer avec un tableau de booléens\n"
   ]
  },
  {
   "cell_type": "code",
   "execution_count": null,
   "metadata": {},
   "outputs": [],
   "source": [
    "x = np.linspace(-1, 1, 51, endpoint=False)*np.pi\n",
    "x[2:9]"
   ]
  },
  {
   "cell_type": "code",
   "execution_count": null,
   "metadata": {},
   "outputs": [],
   "source": [
    "x[4:10:2]\n",
    "# x[start:stop:step], comme range ou arange"
   ]
  },
  {
   "cell_type": "code",
   "execution_count": null,
   "metadata": {},
   "outputs": [],
   "source": [
    "x = np.linspace(-1, 1, 51)\n",
    "x\n",
    "# tout sauf le dernier\n",
    "x[:-1]"
   ]
  },
  {
   "cell_type": "code",
   "execution_count": null,
   "metadata": {},
   "outputs": [],
   "source": [
    "# Les deux derniers\n",
    "x[-2:]"
   ]
  },
  {
   "cell_type": "code",
   "execution_count": null,
   "metadata": {},
   "outputs": [],
   "source": []
  },
  {
   "cell_type": "code",
   "execution_count": null,
   "metadata": {},
   "outputs": [],
   "source": [
    "# La différence entre deux éléments consécutifs (dérivée numérique)\n",
    "x[1:] - x[:-1]"
   ]
  },
  {
   "cell_type": "code",
   "execution_count": null,
   "metadata": {},
   "outputs": [],
   "source": [
    "# Indexer avec un tableau d'entier\n",
    "x[np.array([1, 5, 10])]"
   ]
  },
  {
   "cell_type": "code",
   "execution_count": null,
   "metadata": {},
   "outputs": [],
   "source": [
    "# Par exemple : argsort\n",
    "# Les trois éléments les plus petits\n",
    "x = np.random.rand(10)\n",
    "x"
   ]
  },
  {
   "cell_type": "code",
   "execution_count": null,
   "metadata": {},
   "outputs": [],
   "source": [
    "x[x.argsort()][:3]"
   ]
  },
  {
   "cell_type": "code",
   "execution_count": null,
   "metadata": {},
   "outputs": [],
   "source": [
    "# Avec un tableau de booléens\n",
    "x = np.random.rand(5)\n",
    "x"
   ]
  },
  {
   "cell_type": "code",
   "execution_count": null,
   "metadata": {},
   "outputs": [],
   "source": [
    "x[np.array([True, False, False, True, True])]"
   ]
  },
  {
   "cell_type": "code",
   "execution_count": null,
   "metadata": {},
   "outputs": [],
   "source": [
    "x[x>0.5]"
   ]
  },
  {
   "cell_type": "code",
   "execution_count": null,
   "metadata": {},
   "outputs": [],
   "source": [
    "def val_abs(x):\n",
    "    res = np.zeros(len(x))\n",
    "    res[x>0] = x[x>0]\n",
    "    res[x<=0] = -x[x<=0]\n",
    "    return res"
   ]
  },
  {
   "cell_type": "code",
   "execution_count": null,
   "metadata": {},
   "outputs": [],
   "source": [
    "x[:, 1]"
   ]
  },
  {
   "cell_type": "markdown",
   "metadata": {
    "extensions": {
     "jupyter_dashboards": {
      "version": 1,
      "views": {
       "grid_default": {
        "col": 0,
        "height": 8,
        "hidden": false,
        "row": 112,
        "width": 12
       },
       "report_default": {}
      }
     }
    },
    "slideshow": {
     "slide_type": "slide"
    }
   },
   "source": [
    "# Tracer des graphs\n",
    "\n",
    "* Initialiser l'affichage\n",
    "    * c'est automatique dans spyder (à vérifier...)\n",
    "    * Commande magique : %matplotlib\n",
    "    * Ou bien %matplotilb inline\n",
    "    * Dans un script c'est plus compliqué (graph interactif ou pas, sortie pdf, ...)\n",
    "    \n",
    "* il faut importer les fonctions pour tracer."
   ]
  },
  {
   "cell_type": "code",
   "execution_count": null,
   "metadata": {
    "extensions": {
     "jupyter_dashboards": {
      "version": 1,
      "views": {
       "grid_default": {
        "hidden": true
       },
       "report_default": {}
      }
     }
    }
   },
   "outputs": [],
   "source": [
    "%matplotlib inline\n",
    "import matplotlib.pyplot as plt\n",
    "from matplotlib.pyplot import *"
   ]
  },
  {
   "cell_type": "code",
   "execution_count": null,
   "metadata": {
    "extensions": {
     "jupyter_dashboards": {
      "version": 1,
      "views": {
       "grid_default": {
        "col": 4,
        "height": 9,
        "hidden": false,
        "row": 120,
        "width": 4
       },
       "report_default": {}
      }
     }
    },
    "slideshow": {
     "slide_type": "slide"
    }
   },
   "outputs": [],
   "source": [
    "# Données\n",
    "X = linspace(-2,2, 100)\n",
    "Y = sin(X)**2*exp(-X**2)\n",
    "Y_noise = Y + .1*(np.random.rand(len(X))-0.5)\n",
    "\n",
    "# Graph\n",
    "plt.figure(figsize=(12, 8))\n",
    "plot(X,Y, label=u\"Theory\")\n",
    "plot(X,Y_noise,'o', label=u\"Experiment\")\n",
    "xlabel(r'Voltage [V]')\n",
    "ylabel(r'$\\zeta$ [m]')\n",
    "title(\"Nonsense graph\")\n",
    "legend(loc='upper left')\n",
    "grid(True)\n",
    "savefig('ma_figure.pdf')\n",
    "savefig('ma_figure.svg')"
   ]
  },
  {
   "cell_type": "code",
   "execution_count": null,
   "metadata": {},
   "outputs": [],
   "source": []
  },
  {
   "cell_type": "markdown",
   "metadata": {
    "extensions": {
     "jupyter_dashboards": {
      "version": 1,
      "views": {
       "grid_default": {
        "col": 0,
        "height": 9,
        "hidden": false,
        "row": 130,
        "width": 12
       },
       "report_default": {}
      }
     }
    },
    "slideshow": {
     "slide_type": "slide"
    }
   },
   "source": [
    "## Quelques commandes graphiques \n",
    "\n",
    "* ``plot(X,Y)``\n",
    "* ``loglog(X,Y)``, ``semilogx(X,Y)``, ``semilogy(X,Y)`` \n",
    "* ``errorbar(X,Y, xerr=sig_X, yerr=sig_Y, fmt='o')`` \n",
    "* ``xlabel('blabla')``, ``ylabel('blabla')``, ``title('blabla')``\n",
    "* ``xlim((x_inf, x_sup))``, ``ylim((y_inf, y_sup))`` pour zoomer sur une partie du graph\n",
    "* ``grid(True)`` pour tracer une grille\n",
    "* ``subplot(nx,ny,m)`` pour faires plusieurs plots\n",
    "* ``imshow(image)`` pour tracer une matrice en fausse couleur et ``colorbar()`` pour tracer l'échelle"
   ]
  },
  {
   "cell_type": "markdown",
   "metadata": {
    "extensions": {
     "jupyter_dashboards": {
      "version": 1,
      "views": {
       "grid_default": {
        "col": 0,
        "height": 4,
        "hidden": false,
        "row": 139,
        "width": 12
       },
       "report_default": {}
      }
     }
    },
    "slideshow": {
     "slide_type": "slide"
    }
   },
   "source": [
    "* ``text(x,y,s)``\n",
    "* ``savefig(nom_fichier)``. Pour sauver une figure. Le formet est déterminé par l'extension. Utiliser ``pdf`` ou `svg` si on veut modifier le fichier (avec Inkscape par exemple).\n",
    "\n",
    "Le site web de matplotlib regorge d'exemples avec tout type de graph."
   ]
  },
  {
   "cell_type": "code",
   "execution_count": null,
   "metadata": {},
   "outputs": [],
   "source": []
  }
 ],
 "metadata": {
  "kernelspec": {
   "display_name": "Python 3",
   "language": "python",
   "name": "python3"
  },
  "language_info": {
   "codemirror_mode": {
    "name": "ipython",
    "version": 3
   },
   "file_extension": ".py",
   "mimetype": "text/x-python",
   "name": "python",
   "nbconvert_exporter": "python",
   "pygments_lexer": "ipython3",
   "version": "3.8.8"
  }
 },
 "nbformat": 4,
 "nbformat_minor": 4
}
