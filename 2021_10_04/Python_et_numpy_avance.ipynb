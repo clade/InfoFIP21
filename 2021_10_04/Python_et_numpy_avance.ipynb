{
 "cells": [
  {
   "cell_type": "markdown",
   "id": "b2be5176",
   "metadata": {},
   "source": [
    "# Python"
   ]
  },
  {
   "cell_type": "markdown",
   "id": "4c0f2623",
   "metadata": {},
   "source": [
    "## Les n-uplets (tuples)\n",
    "* Comme les listes sauf que l'on ne peut pas les modifier\n",
    "* Défini avec des ()\n",
    "* Utilisé pour regroupé une nombre connu de données : (x, y, z)\n",
    "* Utilisé lorsqu'une fonction renvoie plusieurs valeurs"
   ]
  },
  {
   "cell_type": "code",
   "execution_count": 3,
   "id": "14e5493e",
   "metadata": {},
   "outputs": [
    {
     "ename": "TypeError",
     "evalue": "'tuple' object does not support item assignment",
     "output_type": "error",
     "traceback": [
      "\u001b[0;31m---------------------------------------------------------------------------\u001b[0m",
      "\u001b[0;31mTypeError\u001b[0m                                 Traceback (most recent call last)",
      "\u001b[0;32m<ipython-input-3-efdacce996a6>\u001b[0m in \u001b[0;36m<module>\u001b[0;34m\u001b[0m\n\u001b[1;32m      1\u001b[0m \u001b[0ma\u001b[0m \u001b[0;34m=\u001b[0m \u001b[0;34m(\u001b[0m\u001b[0;36m1\u001b[0m\u001b[0;34m,\u001b[0m \u001b[0;36m2\u001b[0m\u001b[0;34m,\u001b[0m \u001b[0;36m3\u001b[0m\u001b[0;34m)\u001b[0m\u001b[0;34m\u001b[0m\u001b[0;34m\u001b[0m\u001b[0m\n\u001b[0;32m----> 2\u001b[0;31m \u001b[0ma\u001b[0m\u001b[0;34m[\u001b[0m\u001b[0;36m1\u001b[0m\u001b[0;34m]\u001b[0m \u001b[0;34m=\u001b[0m \u001b[0;36m3\u001b[0m\u001b[0;34m\u001b[0m\u001b[0;34m\u001b[0m\u001b[0m\n\u001b[0m",
      "\u001b[0;31mTypeError\u001b[0m: 'tuple' object does not support item assignment"
     ]
    }
   ],
   "source": [
    "a = (1, 2, 3)\n",
    "a[1] = 3"
   ]
  },
  {
   "cell_type": "code",
   "execution_count": 4,
   "id": "85e7a1e5",
   "metadata": {
    "scrolled": true
   },
   "outputs": [
    {
     "name": "stdout",
     "output_type": "stream",
     "text": [
      "<class 'tuple'>\n",
      "2\n"
     ]
    }
   ],
   "source": [
    "def ma_fonction():\n",
    "    return 1, 2, 3\n",
    "\n",
    "a, b, c = ma_fonction()\n",
    "\n",
    "a = ma_fonction()\n",
    "print(type(a))\n",
    "print(a[1])"
   ]
  },
  {
   "cell_type": "code",
   "execution_count": 5,
   "id": "3815250e",
   "metadata": {},
   "outputs": [
    {
     "name": "stdout",
     "output_type": "stream",
     "text": [
      "2\n"
     ]
    }
   ],
   "source": [
    "a, b, c = (1, 2, 5)\n",
    "print(b)"
   ]
  },
  {
   "cell_type": "code",
   "execution_count": 6,
   "id": "a556e9a1",
   "metadata": {},
   "outputs": [
    {
     "data": {
      "text/plain": [
       "()"
      ]
     },
     "execution_count": 6,
     "metadata": {},
     "output_type": "execute_result"
    }
   ],
   "source": [
    "()"
   ]
  },
  {
   "cell_type": "code",
   "execution_count": 8,
   "id": "92438056",
   "metadata": {},
   "outputs": [
    {
     "data": {
      "text/plain": [
       "(1,)"
      ]
     },
     "execution_count": 8,
     "metadata": {},
     "output_type": "execute_result"
    }
   ],
   "source": [
    "(1,)"
   ]
  },
  {
   "cell_type": "markdown",
   "id": "36664b30",
   "metadata": {},
   "source": [
    "## Les dictionnaires\n",
    "* Conteneur (comme les listes ou tuple)\n",
    "* Le contenu est indéxé par une clé qui est en général un nombre ou une chaine de caractère\n",
    "* Explicit is better than implicit (paramètre ou résultat d'une expérience)\n",
    "* Utilisation dans les fonctions"
   ]
  },
  {
   "cell_type": "code",
   "execution_count": 9,
   "id": "18c0a395",
   "metadata": {},
   "outputs": [
    {
     "name": "stdout",
     "output_type": "stream",
     "text": [
      "100\n",
      "La valeur de N est 100\n",
      "La valeur de l est 30\n",
      "La valeur de h est 50\n",
      "La valeur de g est 9.81\n"
     ]
    }
   ],
   "source": [
    "parametres = {\"N\":100, 'l':30, \"h\":50, \"g\":9.81}\n",
    "print(parametres['N'])\n",
    "\n",
    "for key, val in parametres.items():\n",
    "    print(f'La valeur de {key} est {val}')"
   ]
  },
  {
   "cell_type": "code",
   "execution_count": 11,
   "id": "800349b4",
   "metadata": {},
   "outputs": [
    {
     "name": "stdout",
     "output_type": "stream",
     "text": [
      "Dupont a 13 ans.\n",
      "Dubois a 34 ans.\n"
     ]
    }
   ],
   "source": [
    "personne_1 = {\"nom\":\"Dupont\", \"age\":13}\n",
    "personne_2 = {\"nom\":\"Dubois\", \"age\":34}\n",
    "\n",
    "annuaire = [personne_1, personne_2]\n",
    "\n",
    "for personne in annuaire : \n",
    "    print(f\"{personne['nom']} a {personne['age']} ans.\")\n",
    "    #print('{} a {} ans'.format(personne['nom'], personne['age']))"
   ]
  },
  {
   "cell_type": "markdown",
   "id": "29b996fa",
   "metadata": {},
   "source": [
    "## Les ensembles\n",
    "* Comme en mathématiques : ne contient pas deux fois le même élément\n",
    "* Union |, intersection &"
   ]
  },
  {
   "cell_type": "code",
   "execution_count": 20,
   "id": "68e407b1",
   "metadata": {},
   "outputs": [
    {
     "name": "stdout",
     "output_type": "stream",
     "text": [
      "{1, 3, 4, 6, 8}\n",
      "{1}\n",
      "{'m', ' ', 'e', 'l', 'u', 'q', ':', 'ê', 't', 'c', 'p', 'f', 'n', 'd', 'h', 'o', 'i', 's', 'x', 'a', 'é'}\n",
      "m 7\n",
      "  11\n",
      "e 9\n",
      "l 2\n",
      "u 2\n",
      "q 1\n",
      ": 1\n",
      "ê 1\n",
      "t 5\n",
      "c 1\n",
      "p 1\n",
      "f 1\n",
      "n 5\n",
      "d 1\n",
      "h 1\n",
      "o 3\n",
      "i 3\n",
      "s 3\n",
      "x 1\n",
      "a 3\n",
      "é 3\n"
     ]
    }
   ],
   "source": [
    "s1 = {1, 3, 4}\n",
    "s2 = {1, 6, 8}\n",
    "print(s1|s2)\n",
    "print(s1&s2)\n",
    "\n",
    "s = \"Comme en mathématiques : ne contient pas deux fois le même élément\"\n",
    "toutes_les_lettres = set(s.lower())\n",
    "print(toutes_les_lettres)\n",
    "len(toutes_les_lettres)\n",
    "for lettre in toutes_les_lettres:\n",
    "    print(lettre, s.count(lettre))"
   ]
  },
  {
   "cell_type": "markdown",
   "id": "1725612f",
   "metadata": {},
   "source": [
    "## Les fonctions\n",
    "\n",
    "Nombre arbitraire d'arguments (tuple et dictionnaire)"
   ]
  },
  {
   "cell_type": "code",
   "execution_count": 24,
   "id": "9427ee34",
   "metadata": {},
   "outputs": [
    {
     "name": "stdout",
     "output_type": "stream",
     "text": [
      "1 2 3\n",
      "1 2 3\n",
      "1 3 2\n"
     ]
    }
   ],
   "source": [
    "def f(a, b, c):\n",
    "    print(a, b, c)\n",
    "    \n",
    "f(1, 2, 3)\n",
    "p = (2, 3)\n",
    "f(1, *p)\n",
    "d = {'a':1, 'c':2}\n",
    "f(b=3, **d)"
   ]
  },
  {
   "cell_type": "code",
   "execution_count": 27,
   "id": "8e995e3b",
   "metadata": {},
   "outputs": [
    {
     "name": "stdout",
     "output_type": "stream",
     "text": [
      "1 (2, 3, 4) {}\n",
      "1 (2, 3) {'m': 4, 'l': 5}\n"
     ]
    }
   ],
   "source": [
    "def f(a, *args, **kwd):\n",
    "    print(a, args, kwd)\n",
    "\n",
    "f(1, 2, 3, 4)\n",
    "f(1, 2, 3, m=4, l=5)"
   ]
  },
  {
   "cell_type": "code",
   "execution_count": 29,
   "id": "88eca7eb",
   "metadata": {},
   "outputs": [
    {
     "name": "stdout",
     "output_type": "stream",
     "text": [
      "1 () {'c': 2}\n"
     ]
    },
    {
     "data": {
      "text/plain": [
       "10.987679728847352"
      ]
     },
     "execution_count": 29,
     "metadata": {},
     "output_type": "execute_result"
    }
   ],
   "source": [
    "d = {'a':1, 'c':2}\n",
    "f(**d)\n",
    "\n",
    "import numpy as np\n",
    "\n",
    "parametres_pendule = {\"m\":100, 'l':30, \"g\":9.81}    \n",
    "def periode(l, g, **kwd):\n",
    "    return 2*np.pi*np.sqrt(l/g)\n",
    "\n",
    "periode(**parametres_pendule)"
   ]
  },
  {
   "cell_type": "code",
   "execution_count": 25,
   "id": "c9ec0cc6",
   "metadata": {},
   "outputs": [
    {
     "name": "stdout",
     "output_type": "stream",
     "text": [
      "1 2 3\n"
     ]
    }
   ],
   "source": [
    "print(1, 2, 3)"
   ]
  },
  {
   "cell_type": "markdown",
   "id": "cd577b64",
   "metadata": {},
   "source": [
    "### Fonctions anonymes \n",
    "` lambda arg1, arg2 : expr`"
   ]
  },
  {
   "cell_type": "code",
   "execution_count": 30,
   "id": "5383f281",
   "metadata": {},
   "outputs": [
    {
     "data": {
      "text/plain": [
       "6"
      ]
     },
     "execution_count": 30,
     "metadata": {},
     "output_type": "execute_result"
    }
   ],
   "source": [
    "(lambda a, b, c:a+b+c)(1, 2, 3)"
   ]
  },
  {
   "cell_type": "code",
   "execution_count": null,
   "id": "54281409",
   "metadata": {},
   "outputs": [],
   "source": [
    "# integrale(f, a, b, N_step)\n",
    "# integrale(lambda x: exp(-x**2), 0, 1, 100)"
   ]
  },
  {
   "cell_type": "markdown",
   "id": "48ed3f8f",
   "metadata": {
    "extensions": {
     "jupyter_dashboards": {
      "version": 1,
      "views": {
       "grid_default": {
        "col": 0,
        "height": 5,
        "hidden": false,
        "row": 79,
        "width": 12
       },
       "report_default": {}
      }
     }
    },
    "slideshow": {
     "slide_type": "slide"
    }
   },
   "source": [
    "# Modules en Python\n",
    "\n",
    "* Les modules sont des fichiers dont on peut importer les objets (en général des fonctions) qui y sont définis. \n",
    "* Un module peut contenir d'autre modules\n",
    "* Modules standards (ex: math)"
   ]
  },
  {
   "cell_type": "code",
   "execution_count": null,
   "id": "00ce8a84",
   "metadata": {
    "extensions": {
     "jupyter_dashboards": {
      "version": 1,
      "views": {
       "grid_default": {
        "col": 4,
        "height": 4,
        "hidden": false,
        "row": 75,
        "width": 4
       },
       "report_default": {}
      }
     }
    }
   },
   "outputs": [],
   "source": [
    "from math import exp\n",
    "exp(2.1)"
   ]
  },
  {
   "cell_type": "code",
   "execution_count": null,
   "id": "3fcc3e56",
   "metadata": {
    "extensions": {
     "jupyter_dashboards": {
      "version": 1,
      "views": {
       "grid_default": {
        "col": 8,
        "height": 4,
        "hidden": false,
        "row": 75,
        "width": 4
       },
       "report_default": {}
      }
     }
    }
   },
   "outputs": [],
   "source": [
    "import math\n",
    "math.exp(1)"
   ]
  },
  {
   "cell_type": "code",
   "execution_count": null,
   "id": "716b212a",
   "metadata": {
    "extensions": {
     "jupyter_dashboards": {
      "version": 1,
      "views": {
       "grid_default": {
        "col": 0,
        "height": 4,
        "hidden": false,
        "row": 84,
        "width": 4
       },
       "report_default": {}
      }
     }
    }
   },
   "outputs": [],
   "source": [
    "# Syntaxe à éviter\n",
    "from math import *\n",
    "sin(pi/4)"
   ]
  },
  {
   "cell_type": "code",
   "execution_count": null,
   "id": "b9262b9c",
   "metadata": {},
   "outputs": [],
   "source": [
    "# Donner un nom plus simple\n",
    "# Eviter sauf si tout le monde le fait\n",
    "import numpy as np"
   ]
  },
  {
   "cell_type": "markdown",
   "id": "e52bd691",
   "metadata": {
    "extensions": {
     "jupyter_dashboards": {
      "version": 1,
      "views": {
       "grid_default": {
        "col": 0,
        "height": 6,
        "hidden": false,
        "row": 88,
        "width": 12
       },
       "report_default": {}
      }
     }
    },
    "slideshow": {
     "slide_type": "slide"
    }
   },
   "source": [
    "# Langage orienté objet\n",
    "\n",
    "* Tout en Python est object\n",
    "* Un objet contient des données \n",
    "* La classe d'un objet défini ce qu'est l'objet\n",
    "* La classe défini des fonctions qui permettent d'utiliser les données de l'objet ou de le modifier. Ce sont des méthodes\n",
    "\n",
    "Exemples : \n",
    "* liste, nombre complexe\n",
    "* Tableaux numpy\n",
    "* Oscilloscope"
   ]
  },
  {
   "cell_type": "code",
   "execution_count": 32,
   "id": "aa591bf9",
   "metadata": {
    "extensions": {
     "jupyter_dashboards": {
      "version": 1,
      "views": {
       "grid_default": {
        "col": 4,
        "height": 4,
        "hidden": false,
        "row": 84,
        "width": 4
       },
       "report_default": {}
      }
     }
    }
   },
   "outputs": [
    {
     "name": "stdout",
     "output_type": "stream",
     "text": [
      "[5, 'coucou', 4, 1, 2]\n",
      "4\n"
     ]
    },
    {
     "data": {
      "text/plain": [
       "(1-2j)"
      ]
     },
     "execution_count": 32,
     "metadata": {},
     "output_type": "execute_result"
    }
   ],
   "source": [
    "l = [5, 4, 1, 2]\n",
    "l.insert(1, 'coucou') # modification de l'objet\n",
    "print(l)\n",
    "print(l.index(2))\n",
    "z = 1 + 2J\n",
    "z.real # attribut de l'objet\n",
    "z.conjugate() # methode qui renvoie un nouvel objet"
   ]
  },
  {
   "cell_type": "code",
   "execution_count": 34,
   "id": "98682dca",
   "metadata": {},
   "outputs": [
    {
     "name": "stdout",
     "output_type": "stream",
     "text": [
      "None\n"
     ]
    }
   ],
   "source": [
    "print(l.insert(2, 'bonjour'))"
   ]
  },
  {
   "cell_type": "code",
   "execution_count": 35,
   "id": "52a838d5",
   "metadata": {},
   "outputs": [
    {
     "name": "stdout",
     "output_type": "stream",
     "text": [
      "45\n"
     ]
    }
   ],
   "source": [
    "a = [1, 2, 3]\n",
    "b = a\n",
    "a.insert(0, 45)\n",
    "print(b[0])"
   ]
  },
  {
   "cell_type": "code",
   "execution_count": 36,
   "id": "c308a697",
   "metadata": {},
   "outputs": [
    {
     "name": "stdout",
     "output_type": "stream",
     "text": [
      "1\n"
     ]
    }
   ],
   "source": [
    "a = [1, 2, 4]\n",
    "b = a\n",
    "a = 'Bonjour'\n",
    "print(b[0])"
   ]
  },
  {
   "cell_type": "code",
   "execution_count": null,
   "id": "e91b7aa0",
   "metadata": {},
   "outputs": [],
   "source": []
  },
  {
   "cell_type": "markdown",
   "id": "6654de49",
   "metadata": {},
   "source": [
    "## Variables globales/locales\n",
    "* Dans une fonction, une variable est soit globale soit locale\n",
    "* Si on assigne un objet à une variable dans une fonction, elle est automatiquement locale\n",
    "* Modifier une liste ne rend pas la liste locale\n",
    "* L'instrution `global` ne doit **jamais** être utilisée (sauf cas exceptionels)"
   ]
  },
  {
   "cell_type": "code",
   "execution_count": 37,
   "id": "1127a97f",
   "metadata": {},
   "outputs": [
    {
     "name": "stdout",
     "output_type": "stream",
     "text": [
      "1\n",
      "3\n"
     ]
    }
   ],
   "source": [
    "x = 1\n",
    "def f1():\n",
    "    print(x)\n",
    "f1()\n",
    "x = 3\n",
    "f1()"
   ]
  },
  {
   "cell_type": "code",
   "execution_count": 38,
   "id": "34041fef",
   "metadata": {},
   "outputs": [
    {
     "name": "stdout",
     "output_type": "stream",
     "text": [
      "4\n"
     ]
    }
   ],
   "source": [
    "def f2(x):\n",
    "    print(x)\n",
    "f2(4)"
   ]
  },
  {
   "cell_type": "code",
   "execution_count": 40,
   "id": "53f96e04",
   "metadata": {},
   "outputs": [
    {
     "name": "stdout",
     "output_type": "stream",
     "text": [
      "4\n"
     ]
    },
    {
     "data": {
      "text/plain": [
       "3"
      ]
     },
     "execution_count": 40,
     "metadata": {},
     "output_type": "execute_result"
    }
   ],
   "source": [
    "    \n",
    "def f3():\n",
    "    x = 4\n",
    "    print(x)\n",
    "f3()\n",
    "x"
   ]
  },
  {
   "cell_type": "code",
   "execution_count": 41,
   "id": "02e34cf8",
   "metadata": {},
   "outputs": [
    {
     "ename": "UnboundLocalError",
     "evalue": "local variable 'x' referenced before assignment",
     "output_type": "error",
     "traceback": [
      "\u001b[0;31m---------------------------------------------------------------------------\u001b[0m",
      "\u001b[0;31mUnboundLocalError\u001b[0m                         Traceback (most recent call last)",
      "\u001b[0;32m<ipython-input-41-1bfa6a49a868>\u001b[0m in \u001b[0;36m<module>\u001b[0;34m\u001b[0m\n\u001b[1;32m      4\u001b[0m     \u001b[0mx\u001b[0m \u001b[0;34m=\u001b[0m \u001b[0;36m4\u001b[0m\u001b[0;34m\u001b[0m\u001b[0;34m\u001b[0m\u001b[0m\n\u001b[1;32m      5\u001b[0m     \u001b[0mprint\u001b[0m\u001b[0;34m(\u001b[0m\u001b[0mx\u001b[0m\u001b[0;34m)\u001b[0m\u001b[0;34m\u001b[0m\u001b[0;34m\u001b[0m\u001b[0m\n\u001b[0;32m----> 6\u001b[0;31m \u001b[0mf4\u001b[0m\u001b[0;34m(\u001b[0m\u001b[0;34m)\u001b[0m\u001b[0;34m\u001b[0m\u001b[0;34m\u001b[0m\u001b[0m\n\u001b[0m",
      "\u001b[0;32m<ipython-input-41-1bfa6a49a868>\u001b[0m in \u001b[0;36mf4\u001b[0;34m()\u001b[0m\n\u001b[1;32m      1\u001b[0m \u001b[0mx\u001b[0m \u001b[0;34m=\u001b[0m \u001b[0;36m2\u001b[0m\u001b[0;34m\u001b[0m\u001b[0;34m\u001b[0m\u001b[0m\n\u001b[1;32m      2\u001b[0m \u001b[0;32mdef\u001b[0m \u001b[0mf4\u001b[0m\u001b[0;34m(\u001b[0m\u001b[0;34m)\u001b[0m\u001b[0;34m:\u001b[0m\u001b[0;34m\u001b[0m\u001b[0;34m\u001b[0m\u001b[0m\n\u001b[0;32m----> 3\u001b[0;31m     \u001b[0mprint\u001b[0m\u001b[0;34m(\u001b[0m\u001b[0mx\u001b[0m\u001b[0;34m)\u001b[0m\u001b[0;34m\u001b[0m\u001b[0;34m\u001b[0m\u001b[0m\n\u001b[0m\u001b[1;32m      4\u001b[0m     \u001b[0mx\u001b[0m \u001b[0;34m=\u001b[0m \u001b[0;36m4\u001b[0m\u001b[0;34m\u001b[0m\u001b[0;34m\u001b[0m\u001b[0m\n\u001b[1;32m      5\u001b[0m     \u001b[0mprint\u001b[0m\u001b[0;34m(\u001b[0m\u001b[0mx\u001b[0m\u001b[0;34m)\u001b[0m\u001b[0;34m\u001b[0m\u001b[0;34m\u001b[0m\u001b[0m\n",
      "\u001b[0;31mUnboundLocalError\u001b[0m: local variable 'x' referenced before assignment"
     ]
    }
   ],
   "source": [
    "x = 2   \n",
    "def f4():\n",
    "    print(x)\n",
    "    x = 4\n",
    "    print(x)\n",
    "f4()"
   ]
  },
  {
   "cell_type": "markdown",
   "id": "d1603a5f",
   "metadata": {},
   "source": [
    "Les variables globales doivent être constantes : \n",
    "* Constantes numériques\n",
    "* Autres objets : fonctions, modules, ..."
   ]
  },
  {
   "cell_type": "code",
   "execution_count": 42,
   "id": "0972d220",
   "metadata": {},
   "outputs": [],
   "source": [
    "from math import sin, pi\n",
    "\n",
    "def ma_fonction(x):\n",
    "    if x==0:\n",
    "        return 1\n",
    "    return sin(pi*x)/(pi*x)\n",
    "\n",
    "\n"
   ]
  },
  {
   "cell_type": "markdown",
   "id": "c9414074",
   "metadata": {},
   "source": [
    "# Les exceptions (erreurs)\n",
    "* Il faut toujours lire et comprendre les erreurs\n",
    "* En général python indique toujours l'endroit où se trouve l'erreur\n",
    "* Sauf pour les \"syntax error\""
   ]
  },
  {
   "cell_type": "code",
   "execution_count": 44,
   "id": "56335fe3",
   "metadata": {},
   "outputs": [
    {
     "name": "stdout",
     "output_type": "stream",
     "text": [
      "70\n"
     ]
    }
   ],
   "source": [
    "variable = 34\n",
    "print(2*variable + 2)"
   ]
  },
  {
   "cell_type": "code",
   "execution_count": 46,
   "id": "63b7c061",
   "metadata": {},
   "outputs": [
    {
     "ename": "ValueError",
     "evalue": "math domain error",
     "output_type": "error",
     "traceback": [
      "\u001b[0;31m---------------------------------------------------------------------------\u001b[0m",
      "\u001b[0;31mValueError\u001b[0m                                Traceback (most recent call last)",
      "\u001b[0;32m<ipython-input-46-eb80c803d6ae>\u001b[0m in \u001b[0;36m<module>\u001b[0;34m\u001b[0m\n\u001b[1;32m      1\u001b[0m \u001b[0;32mfrom\u001b[0m \u001b[0mmath\u001b[0m \u001b[0;32mimport\u001b[0m \u001b[0msqrt\u001b[0m\u001b[0;34m\u001b[0m\u001b[0;34m\u001b[0m\u001b[0m\n\u001b[1;32m      2\u001b[0m \u001b[0;34m\u001b[0m\u001b[0m\n\u001b[0;32m----> 3\u001b[0;31m \u001b[0msqrt\u001b[0m\u001b[0;34m(\u001b[0m\u001b[0;34m-\u001b[0m\u001b[0;36m1\u001b[0m\u001b[0;34m)\u001b[0m\u001b[0;34m\u001b[0m\u001b[0;34m\u001b[0m\u001b[0m\n\u001b[0m",
      "\u001b[0;31mValueError\u001b[0m: math domain error"
     ]
    }
   ],
   "source": [
    "from math import sqrt\n",
    "\n",
    "sqrt(-1)"
   ]
  },
  {
   "cell_type": "code",
   "execution_count": 49,
   "id": "6b65577c",
   "metadata": {},
   "outputs": [],
   "source": [
    "def f(x):\n",
    "    y = 2*x\n",
    "    print(x)\n",
    "    "
   ]
  },
  {
   "cell_type": "code",
   "execution_count": 50,
   "id": "93214dab",
   "metadata": {},
   "outputs": [
    {
     "ename": "TypeError",
     "evalue": "'list' object is not callable",
     "output_type": "error",
     "traceback": [
      "\u001b[0;31m---------------------------------------------------------------------------\u001b[0m",
      "\u001b[0;31mTypeError\u001b[0m                                 Traceback (most recent call last)",
      "\u001b[0;32m<ipython-input-50-0642d5456545>\u001b[0m in \u001b[0;36m<module>\u001b[0;34m\u001b[0m\n\u001b[1;32m      1\u001b[0m \u001b[0ml\u001b[0m \u001b[0;34m=\u001b[0m \u001b[0;34m[\u001b[0m\u001b[0;36m1\u001b[0m\u001b[0;34m,\u001b[0m \u001b[0;36m2\u001b[0m\u001b[0;34m,\u001b[0m \u001b[0;36m4\u001b[0m\u001b[0;34m]\u001b[0m\u001b[0;34m\u001b[0m\u001b[0;34m\u001b[0m\u001b[0m\n\u001b[0;32m----> 2\u001b[0;31m \u001b[0ml\u001b[0m\u001b[0;34m(\u001b[0m\u001b[0;36m1\u001b[0m\u001b[0;34m)\u001b[0m\u001b[0;34m\u001b[0m\u001b[0;34m\u001b[0m\u001b[0m\n\u001b[0m",
      "\u001b[0;31mTypeError\u001b[0m: 'list' object is not callable"
     ]
    }
   ],
   "source": [
    "l = [1, 2, 4]\n",
    "l(1)"
   ]
  },
  {
   "cell_type": "code",
   "execution_count": 51,
   "id": "bbce9efe",
   "metadata": {},
   "outputs": [
    {
     "ename": "TypeError",
     "evalue": "'function' object is not subscriptable",
     "output_type": "error",
     "traceback": [
      "\u001b[0;31m---------------------------------------------------------------------------\u001b[0m",
      "\u001b[0;31mTypeError\u001b[0m                                 Traceback (most recent call last)",
      "\u001b[0;32m<ipython-input-51-eaf288da1121>\u001b[0m in \u001b[0;36m<module>\u001b[0;34m\u001b[0m\n\u001b[1;32m      2\u001b[0m     \u001b[0mprint\u001b[0m\u001b[0;34m(\u001b[0m\u001b[0mx\u001b[0m\u001b[0;34m)\u001b[0m\u001b[0;34m\u001b[0m\u001b[0;34m\u001b[0m\u001b[0m\n\u001b[1;32m      3\u001b[0m \u001b[0;34m\u001b[0m\u001b[0m\n\u001b[0;32m----> 4\u001b[0;31m \u001b[0mf\u001b[0m\u001b[0;34m[\u001b[0m\u001b[0;36m1\u001b[0m\u001b[0;34m]\u001b[0m\u001b[0;34m\u001b[0m\u001b[0;34m\u001b[0m\u001b[0m\n\u001b[0m",
      "\u001b[0;31mTypeError\u001b[0m: 'function' object is not subscriptable"
     ]
    }
   ],
   "source": [
    "def f(x):\n",
    "    print(x)\n",
    "    \n",
    "f[1]"
   ]
  },
  {
   "cell_type": "code",
   "execution_count": null,
   "id": "4ad65285",
   "metadata": {},
   "outputs": [],
   "source": []
  },
  {
   "cell_type": "code",
   "execution_count": null,
   "id": "3fc578e8",
   "metadata": {},
   "outputs": [],
   "source": []
  },
  {
   "cell_type": "markdown",
   "id": "df8ae03c",
   "metadata": {},
   "source": [
    "## Créer sa propre erreur\n",
    "* raise Exception('Un message')\n",
    "* Ne pas utiliser print(message)\n",
    "* try: except"
   ]
  },
  {
   "cell_type": "code",
   "execution_count": 52,
   "id": "4c097887",
   "metadata": {},
   "outputs": [
    {
     "name": "stdout",
     "output_type": "stream",
     "text": [
      "0.10545470031833197\n"
     ]
    },
    {
     "ename": "Exception",
     "evalue": "La balle ne touche pas le plafond",
     "output_type": "error",
     "traceback": [
      "\u001b[0;31m---------------------------------------------------------------------------\u001b[0m",
      "\u001b[0;31mException\u001b[0m                                 Traceback (most recent call last)",
      "\u001b[0;32m<ipython-input-52-d41ab9e67048>\u001b[0m in \u001b[0;36m<module>\u001b[0;34m\u001b[0m\n\u001b[1;32m      9\u001b[0m \u001b[0;34m\u001b[0m\u001b[0m\n\u001b[1;32m     10\u001b[0m \u001b[0mprint\u001b[0m\u001b[0;34m(\u001b[0m\u001b[0mtemps_arrivee\u001b[0m\u001b[0;34m(\u001b[0m\u001b[0mh\u001b[0m\u001b[0;34m=\u001b[0m\u001b[0;36m1\u001b[0m\u001b[0;34m,\u001b[0m \u001b[0mv_0\u001b[0m\u001b[0;34m=\u001b[0m\u001b[0;36m10\u001b[0m\u001b[0;34m)\u001b[0m\u001b[0;34m)\u001b[0m\u001b[0;34m\u001b[0m\u001b[0;34m\u001b[0m\u001b[0m\n\u001b[0;32m---> 11\u001b[0;31m \u001b[0mprint\u001b[0m\u001b[0;34m(\u001b[0m\u001b[0mtemps_arrivee\u001b[0m\u001b[0;34m(\u001b[0m\u001b[0mh\u001b[0m\u001b[0;34m=\u001b[0m\u001b[0;36m1\u001b[0m\u001b[0;34m,\u001b[0m \u001b[0mv_0\u001b[0m\u001b[0;34m=\u001b[0m\u001b[0;36m1\u001b[0m\u001b[0;34m)\u001b[0m\u001b[0;34m)\u001b[0m\u001b[0;34m\u001b[0m\u001b[0;34m\u001b[0m\u001b[0m\n\u001b[0m",
      "\u001b[0;32m<ipython-input-52-d41ab9e67048>\u001b[0m in \u001b[0;36mtemps_arrivee\u001b[0;34m(h, v_0, g)\u001b[0m\n\u001b[1;32m      5\u001b[0m     \u001b[0mDelta\u001b[0m \u001b[0;34m=\u001b[0m \u001b[0mv_0\u001b[0m\u001b[0;34m**\u001b[0m\u001b[0;36m2\u001b[0m \u001b[0;34m-\u001b[0m \u001b[0;36m2\u001b[0m\u001b[0;34m*\u001b[0m\u001b[0mg\u001b[0m\u001b[0;34m*\u001b[0m\u001b[0mh\u001b[0m\u001b[0;34m\u001b[0m\u001b[0;34m\u001b[0m\u001b[0m\n\u001b[1;32m      6\u001b[0m     \u001b[0;32mif\u001b[0m \u001b[0mDelta\u001b[0m\u001b[0;34m<\u001b[0m\u001b[0;36m0\u001b[0m\u001b[0;34m:\u001b[0m\u001b[0;34m\u001b[0m\u001b[0;34m\u001b[0m\u001b[0m\n\u001b[0;32m----> 7\u001b[0;31m         \u001b[0;32mraise\u001b[0m \u001b[0mException\u001b[0m\u001b[0;34m(\u001b[0m\u001b[0;34m\"La balle ne touche pas le plafond\"\u001b[0m\u001b[0;34m)\u001b[0m\u001b[0;34m\u001b[0m\u001b[0;34m\u001b[0m\u001b[0m\n\u001b[0m\u001b[1;32m      8\u001b[0m     \u001b[0;32mreturn\u001b[0m \u001b[0;34m(\u001b[0m\u001b[0mv_0\u001b[0m \u001b[0;34m-\u001b[0m \u001b[0msqrt\u001b[0m\u001b[0;34m(\u001b[0m\u001b[0mDelta\u001b[0m\u001b[0;34m)\u001b[0m\u001b[0;34m)\u001b[0m\u001b[0;34m/\u001b[0m\u001b[0mg\u001b[0m\u001b[0;34m\u001b[0m\u001b[0;34m\u001b[0m\u001b[0m\n\u001b[1;32m      9\u001b[0m \u001b[0;34m\u001b[0m\u001b[0m\n",
      "\u001b[0;31mException\u001b[0m: La balle ne touche pas le plafond"
     ]
    }
   ],
   "source": [
    "# On lance une balle à la vitesse v_0 vers le haut\n",
    "# Calculer le temps pour arriver au plafond de hauteur h\n",
    "from math import sqrt\n",
    "def temps_arrivee(h, v_0, g=9.81):\n",
    "    Delta = v_0**2 - 2*g*h\n",
    "    if Delta<0:\n",
    "        raise Exception(\"La balle ne touche pas le plafond\")\n",
    "    return (v_0 - sqrt(Delta))/g\n",
    "\n",
    "print(temps_arrivee(h=1, v_0=10))\n",
    "print(temps_arrivee(h=1, v_0=1))"
   ]
  },
  {
   "cell_type": "code",
   "execution_count": 53,
   "id": "856d49e8",
   "metadata": {},
   "outputs": [
    {
     "name": "stdout",
     "output_type": "stream",
     "text": [
      "0.10545470031833197\n"
     ]
    },
    {
     "ename": "Exception",
     "evalue": "La balle ne touche pas le plafond",
     "output_type": "error",
     "traceback": [
      "\u001b[0;31m---------------------------------------------------------------------------\u001b[0m",
      "\u001b[0;31mValueError\u001b[0m                                Traceback (most recent call last)",
      "\u001b[0;32m<ipython-input-53-3a03f4968e75>\u001b[0m in \u001b[0;36mtemps_arrivee\u001b[0;34m(h, v_0, g)\u001b[0m\n\u001b[1;32m      4\u001b[0m     \u001b[0;32mtry\u001b[0m\u001b[0;34m:\u001b[0m\u001b[0;34m\u001b[0m\u001b[0;34m\u001b[0m\u001b[0m\n\u001b[0;32m----> 5\u001b[0;31m         \u001b[0;32mreturn\u001b[0m \u001b[0;34m(\u001b[0m\u001b[0mv_0\u001b[0m \u001b[0;34m-\u001b[0m \u001b[0msqrt\u001b[0m\u001b[0;34m(\u001b[0m\u001b[0mDelta\u001b[0m\u001b[0;34m)\u001b[0m\u001b[0;34m)\u001b[0m\u001b[0;34m/\u001b[0m\u001b[0mg\u001b[0m\u001b[0;34m\u001b[0m\u001b[0;34m\u001b[0m\u001b[0m\n\u001b[0m\u001b[1;32m      6\u001b[0m     \u001b[0;32mexcept\u001b[0m \u001b[0mValueError\u001b[0m\u001b[0;34m:\u001b[0m\u001b[0;34m\u001b[0m\u001b[0;34m\u001b[0m\u001b[0m\n",
      "\u001b[0;31mValueError\u001b[0m: math domain error",
      "\nDuring handling of the above exception, another exception occurred:\n",
      "\u001b[0;31mException\u001b[0m                                 Traceback (most recent call last)",
      "\u001b[0;32m<ipython-input-53-3a03f4968e75>\u001b[0m in \u001b[0;36m<module>\u001b[0;34m\u001b[0m\n\u001b[1;32m      7\u001b[0m         \u001b[0;32mraise\u001b[0m \u001b[0mException\u001b[0m\u001b[0;34m(\u001b[0m\u001b[0;34m\"La balle ne touche pas le plafond\"\u001b[0m\u001b[0;34m)\u001b[0m\u001b[0;34m\u001b[0m\u001b[0;34m\u001b[0m\u001b[0m\n\u001b[1;32m      8\u001b[0m \u001b[0mprint\u001b[0m\u001b[0;34m(\u001b[0m\u001b[0mtemps_arrivee\u001b[0m\u001b[0;34m(\u001b[0m\u001b[0;36m1\u001b[0m\u001b[0;34m,\u001b[0m \u001b[0;36m10\u001b[0m\u001b[0;34m)\u001b[0m\u001b[0;34m)\u001b[0m\u001b[0;34m\u001b[0m\u001b[0;34m\u001b[0m\u001b[0m\n\u001b[0;32m----> 9\u001b[0;31m \u001b[0mprint\u001b[0m\u001b[0;34m(\u001b[0m\u001b[0mtemps_arrivee\u001b[0m\u001b[0;34m(\u001b[0m\u001b[0;36m1\u001b[0m\u001b[0;34m,\u001b[0m \u001b[0;36m1\u001b[0m\u001b[0;34m)\u001b[0m\u001b[0;34m)\u001b[0m\u001b[0;34m\u001b[0m\u001b[0;34m\u001b[0m\u001b[0m\n\u001b[0m",
      "\u001b[0;32m<ipython-input-53-3a03f4968e75>\u001b[0m in \u001b[0;36mtemps_arrivee\u001b[0;34m(h, v_0, g)\u001b[0m\n\u001b[1;32m      5\u001b[0m         \u001b[0;32mreturn\u001b[0m \u001b[0;34m(\u001b[0m\u001b[0mv_0\u001b[0m \u001b[0;34m-\u001b[0m \u001b[0msqrt\u001b[0m\u001b[0;34m(\u001b[0m\u001b[0mDelta\u001b[0m\u001b[0;34m)\u001b[0m\u001b[0;34m)\u001b[0m\u001b[0;34m/\u001b[0m\u001b[0mg\u001b[0m\u001b[0;34m\u001b[0m\u001b[0;34m\u001b[0m\u001b[0m\n\u001b[1;32m      6\u001b[0m     \u001b[0;32mexcept\u001b[0m \u001b[0mValueError\u001b[0m\u001b[0;34m:\u001b[0m\u001b[0;34m\u001b[0m\u001b[0;34m\u001b[0m\u001b[0m\n\u001b[0;32m----> 7\u001b[0;31m         \u001b[0;32mraise\u001b[0m \u001b[0mException\u001b[0m\u001b[0;34m(\u001b[0m\u001b[0;34m\"La balle ne touche pas le plafond\"\u001b[0m\u001b[0;34m)\u001b[0m\u001b[0;34m\u001b[0m\u001b[0;34m\u001b[0m\u001b[0m\n\u001b[0m\u001b[1;32m      8\u001b[0m \u001b[0mprint\u001b[0m\u001b[0;34m(\u001b[0m\u001b[0mtemps_arrivee\u001b[0m\u001b[0;34m(\u001b[0m\u001b[0;36m1\u001b[0m\u001b[0;34m,\u001b[0m \u001b[0;36m10\u001b[0m\u001b[0;34m)\u001b[0m\u001b[0;34m)\u001b[0m\u001b[0;34m\u001b[0m\u001b[0;34m\u001b[0m\u001b[0m\n\u001b[1;32m      9\u001b[0m \u001b[0mprint\u001b[0m\u001b[0;34m(\u001b[0m\u001b[0mtemps_arrivee\u001b[0m\u001b[0;34m(\u001b[0m\u001b[0;36m1\u001b[0m\u001b[0;34m,\u001b[0m \u001b[0;36m1\u001b[0m\u001b[0;34m)\u001b[0m\u001b[0;34m)\u001b[0m\u001b[0;34m\u001b[0m\u001b[0;34m\u001b[0m\u001b[0m\n",
      "\u001b[0;31mException\u001b[0m: La balle ne touche pas le plafond"
     ]
    }
   ],
   "source": [
    "from math import sqrt\n",
    "def temps_arrivee(h, v_0, g=9.81):\n",
    "    Delta = v_0**2 - 2*g*h\n",
    "    try:\n",
    "        return (v_0 - sqrt(Delta))/g\n",
    "    except ValueError:\n",
    "        raise Exception(\"La balle ne touche pas le plafond\")\n",
    "print(temps_arrivee(1, 10))\n",
    "print(temps_arrivee(1, 1))"
   ]
  },
  {
   "cell_type": "code",
   "execution_count": null,
   "id": "72ba2395",
   "metadata": {},
   "outputs": [],
   "source": []
  },
  {
   "cell_type": "markdown",
   "id": "44cd8983",
   "metadata": {},
   "source": [
    "# Les fichiers\n",
    "* Répertoire absolu et relatif\n",
    "* Chemin d'accès\n",
    "* Fichier texte (c'est une chaine de caractère)\n",
    "* Lecture/écriture\n",
    "* Format JSON"
   ]
  },
  {
   "cell_type": "code",
   "execution_count": 54,
   "id": "c34a3919",
   "metadata": {},
   "outputs": [
    {
     "name": "stdout",
     "output_type": "stream",
     "text": [
      "/home/pierre/Enseignement/2021/python_pour_scientifique/cours/cours2\r\n"
     ]
    }
   ],
   "source": [
    "!pwd\n",
    "# Sous windows : c:\\Users\\login\\"
   ]
  },
  {
   "cell_type": "code",
   "execution_count": 55,
   "id": "767d33d9",
   "metadata": {},
   "outputs": [],
   "source": [
    "filename = \"/home/pierre/Enseignement/2021/python_pour_scientifique/cours/cours2/Python_et_numpy_avance.ipynb\""
   ]
  },
  {
   "cell_type": "code",
   "execution_count": null,
   "id": "79aa78bc",
   "metadata": {},
   "outputs": [],
   "source": []
  },
  {
   "cell_type": "code",
   "execution_count": 59,
   "id": "385eea65",
   "metadata": {},
   "outputs": [
    {
     "name": "stdout",
     "output_type": "stream",
     "text": [
      "['Bases de python et utilisation de numpy.ipynb', 'test_long.txt', 'test.txt', '.ipynb_checkpoints', 'test_long.npy', 'Bases de python et utilisation de numpy.pdf']\n"
     ]
    }
   ],
   "source": [
    "# Chemin relatif\n",
    "import os\n",
    "print(os.listdir('../cours1'))"
   ]
  },
  {
   "cell_type": "code",
   "execution_count": 64,
   "id": "a1a4112d",
   "metadata": {},
   "outputs": [],
   "source": [
    "file = 'data/test_python.txt'\n",
    "fd = open(file, 'w')\n",
    "fd.write('Bonjour\\n')\n",
    "fd.close()\n",
    "\n",
    "with open(file, 'a') as fd:\n",
    "    fd.write('Au revoir')"
   ]
  },
  {
   "cell_type": "code",
   "execution_count": 65,
   "id": "91872afa",
   "metadata": {},
   "outputs": [
    {
     "name": "stdout",
     "output_type": "stream",
     "text": [
      "Bonjour\n",
      "Au revoir\n"
     ]
    }
   ],
   "source": [
    "with open(file) as fd:\n",
    "    print(fd.read())"
   ]
  },
  {
   "cell_type": "code",
   "execution_count": 66,
   "id": "88d41d7c",
   "metadata": {},
   "outputs": [
    {
     "name": "stdout",
     "output_type": "stream",
     "text": [
      "Bonjour\n",
      "Au revoir\n"
     ]
    }
   ],
   "source": [
    "with open(file) as fd:\n",
    "    lines = fd.readlines()\n",
    "    \n",
    "for line in lines:\n",
    "    print(line.strip()) # strip pour enlever le \\n"
   ]
  },
  {
   "cell_type": "code",
   "execution_count": 67,
   "id": "57513371",
   "metadata": {},
   "outputs": [
    {
     "name": "stdout",
     "output_type": "stream",
     "text": [
      "1.151998738082691265e+00\n",
      "1.106094761441734242e+00\n",
      "1.064792205246391399e+00\n",
      "1.162119087304531728e+00\n",
      "9.478692289710572982e-01\n",
      "\n"
     ]
    }
   ],
   "source": [
    "file = \"../cours1/test.txt\"\n",
    "with open(file) as fd:\n",
    "    print(fd.read())"
   ]
  },
  {
   "cell_type": "markdown",
   "id": "62c2a012",
   "metadata": {},
   "source": [
    "## JSON\n",
    "* Permet d'enregistrer une liste ou un dictionnaire\n",
    "* Fichier lisible par un humain"
   ]
  },
  {
   "cell_type": "code",
   "execution_count": 68,
   "id": "82a3b4f0",
   "metadata": {},
   "outputs": [],
   "source": [
    "import json\n",
    "\n",
    "personne_1 = {\"nom\":\"Dupont\", \"age\":13}\n",
    "personne_2 = {\"nom\":\"Dubois\", \"age\":34}\n",
    "\n",
    "annuaire = [personne_1, personne_2]\n",
    "\n",
    "file = 'test.json'\n",
    "with open(file, \"w\") as f:\n",
    "    json.dump(annuaire, f, indent=2)\n",
    "    "
   ]
  },
  {
   "cell_type": "code",
   "execution_count": 69,
   "id": "21a83f3c",
   "metadata": {},
   "outputs": [
    {
     "name": "stdout",
     "output_type": "stream",
     "text": [
      "[{'nom': 'Dupont', 'age': 13}, {'nom': 'Dubois', 'age': 34}]\n"
     ]
    }
   ],
   "source": [
    "with open(file) as f:\n",
    "    annuaire = json.load(f)\n",
    "print(annuaire)    \n",
    "    \n"
   ]
  },
  {
   "cell_type": "code",
   "execution_count": null,
   "id": "d0077ecd",
   "metadata": {},
   "outputs": [],
   "source": []
  },
  {
   "cell_type": "markdown",
   "id": "2d28c9ab",
   "metadata": {},
   "source": [
    "# Numpy"
   ]
  },
  {
   "cell_type": "markdown",
   "id": "b82ac84c",
   "metadata": {},
   "source": [
    "# Tableau dans la mémoire\n",
    "* strides\n",
    "* from numpy.lib.stride_tricks import as_strided"
   ]
  },
  {
   "cell_type": "code",
   "execution_count": 70,
   "id": "9d4a485f",
   "metadata": {},
   "outputs": [
    {
     "data": {
      "text/plain": [
       "[1]"
      ]
     },
     "execution_count": 70,
     "metadata": {},
     "output_type": "execute_result"
    }
   ],
   "source": [
    "a = []\n",
    "b = a\n",
    "b.append(1)\n",
    "a"
   ]
  },
  {
   "cell_type": "code",
   "execution_count": 71,
   "id": "c52e0970",
   "metadata": {},
   "outputs": [
    {
     "data": {
      "text/plain": [
       "array([10,  1,  2,  3,  4,  5,  6,  7,  8,  9])"
      ]
     },
     "execution_count": 71,
     "metadata": {},
     "output_type": "execute_result"
    }
   ],
   "source": [
    "a = np.arange(10)\n",
    "b = a[:3]\n",
    "b[0] = 10\n",
    "a"
   ]
  },
  {
   "cell_type": "code",
   "execution_count": 72,
   "id": "e3a52fd9",
   "metadata": {},
   "outputs": [
    {
     "data": {
      "text/plain": [
       "(10,)"
      ]
     },
     "execution_count": 72,
     "metadata": {},
     "output_type": "execute_result"
    }
   ],
   "source": [
    "a.shape"
   ]
  },
  {
   "cell_type": "code",
   "execution_count": 74,
   "id": "5348379d",
   "metadata": {},
   "outputs": [
    {
     "data": {
      "text/plain": [
       "array([                  0, 4591870180066957722, 4596373779694328218,\n",
       "       4599075939470750516, 4600877379321698714, 4602678819172646912,\n",
       "       4603579539098121012, 4604480259023595111, 4605380978949069210,\n",
       "       4606281698874543309, 4607182418800017408])"
      ]
     },
     "execution_count": 74,
     "metadata": {},
     "output_type": "execute_result"
    }
   ],
   "source": [
    "a = np.linspace(0, 1, 11)\n",
    "a.dtype = np.int64\n",
    "a"
   ]
  },
  {
   "cell_type": "code",
   "execution_count": 75,
   "id": "7f8caff6",
   "metadata": {},
   "outputs": [],
   "source": [
    "b = a[::2]"
   ]
  },
  {
   "cell_type": "code",
   "execution_count": 77,
   "id": "7ee219aa",
   "metadata": {},
   "outputs": [
    {
     "name": "stdout",
     "output_type": "stream",
     "text": [
      "(8,)\n",
      "(16,)\n"
     ]
    }
   ],
   "source": [
    "print(a.strides)\n",
    "print(b.strides)"
   ]
  },
  {
   "cell_type": "code",
   "execution_count": 79,
   "id": "085c4177",
   "metadata": {},
   "outputs": [
    {
     "data": {
      "text/plain": [
       "(24, 8)"
      ]
     },
     "execution_count": 79,
     "metadata": {},
     "output_type": "execute_result"
    }
   ],
   "source": [
    "a = np.zeros((4, 3))\n",
    "a.strides"
   ]
  },
  {
   "cell_type": "code",
   "execution_count": 81,
   "id": "cf41cf59",
   "metadata": {},
   "outputs": [
    {
     "data": {
      "text/plain": [
       "array([[0, 1],\n",
       "       [2, 3],\n",
       "       [4, 5],\n",
       "       [6, 7],\n",
       "       [8, 9]])"
      ]
     },
     "execution_count": 81,
     "metadata": {},
     "output_type": "execute_result"
    }
   ],
   "source": [
    "a = np.arange(10)\n",
    "a.reshape((5, 2))"
   ]
  },
  {
   "cell_type": "code",
   "execution_count": 80,
   "id": "45293a48",
   "metadata": {
    "scrolled": true
   },
   "outputs": [
    {
     "name": "stdout",
     "output_type": "stream",
     "text": [
      "[[0 1 2 3 4]\n",
      " [1 2 3 4 5]\n",
      " [2 3 4 5 6]\n",
      " [3 4 5 6 7]\n",
      " [4 5 6 7 8]\n",
      " [5 6 7 8 9]]\n"
     ]
    }
   ],
   "source": [
    "from numpy.lib.stride_tricks import as_strided\n",
    "a = np.arange(10)\n",
    "b = as_strided(a, shape=((6, 5)), strides=(8, 8))\n",
    "print(b)\n",
    "#b.mean(axis=1)"
   ]
  },
  {
   "cell_type": "markdown",
   "id": "e6fb70f0",
   "metadata": {},
   "source": [
    "# Tableaux nD"
   ]
  },
  {
   "cell_type": "code",
   "execution_count": 84,
   "id": "4f6aa30a",
   "metadata": {},
   "outputs": [
    {
     "data": {
      "text/plain": [
       "2"
      ]
     },
     "execution_count": 84,
     "metadata": {},
     "output_type": "execute_result"
    }
   ],
   "source": [
    "a = np.array([[1,2], [3, 4]])\n",
    "# l'index est un tuple\n",
    "a[0, 1]\n",
    "a[(0, 1)]"
   ]
  },
  {
   "cell_type": "code",
   "execution_count": 85,
   "id": "f1889f25",
   "metadata": {},
   "outputs": [
    {
     "data": {
      "text/plain": [
       "array([0.20444039, 0.61491824, 0.70563019, 0.76157881, 0.06011002])"
      ]
     },
     "execution_count": 85,
     "metadata": {},
     "output_type": "execute_result"
    }
   ],
   "source": [
    "x = np.random.rand(5, 5)\n",
    "# Récupérer une colonne\n",
    "x[:,0]"
   ]
  },
  {
   "cell_type": "code",
   "execution_count": 86,
   "id": "9f15b069",
   "metadata": {},
   "outputs": [
    {
     "data": {
      "text/plain": [
       "array([[0.89910354, 0.70125995, 0.6941588 , 0.37258508, 0.70396985],\n",
       "       [0.88415334, 0.98104865, 0.27976175, 0.61434796, 0.1310928 ],\n",
       "       [0.18321393, 0.95836867, 0.34211264, 0.4090201 , 0.30691607],\n",
       "       [0.19384562, 0.25635118, 0.57094225, 0.55928077, 0.46653044],\n",
       "       [0.35970172, 0.25309066, 0.99839632, 0.08725984, 0.94497317]])"
      ]
     },
     "execution_count": 86,
     "metadata": {},
     "output_type": "execute_result"
    }
   ],
   "source": [
    "# méthode reshape\n",
    "x = np.random.rand(25)\n",
    "x.reshape((5, 5))"
   ]
  },
  {
   "cell_type": "code",
   "execution_count": 87,
   "id": "2af24cec",
   "metadata": {},
   "outputs": [
    {
     "data": {
      "text/plain": [
       "(24, 8)"
      ]
     },
     "execution_count": 87,
     "metadata": {},
     "output_type": "execute_result"
    }
   ],
   "source": [
    "x = np.random.rand(5, 3)\n",
    "x.strides"
   ]
  },
  {
   "cell_type": "code",
   "execution_count": 88,
   "id": "1b831e81",
   "metadata": {},
   "outputs": [
    {
     "data": {
      "text/plain": [
       "array([  0,   1,   2,   3,   4, 100,   6,   7,   8,   9])"
      ]
     },
     "execution_count": 88,
     "metadata": {},
     "output_type": "execute_result"
    }
   ],
   "source": [
    "# Attention, numpy évite de recopier la memoire\n",
    "x = np.arange(10)\n",
    "b = x[1::2]\n",
    "b[2] = 100\n",
    "x"
   ]
  },
  {
   "cell_type": "code",
   "execution_count": 89,
   "id": "ae5724e9",
   "metadata": {},
   "outputs": [
    {
     "data": {
      "text/plain": [
       "array([0, 1, 2, 3, 4, 5, 6, 7, 8, 9])"
      ]
     },
     "execution_count": 89,
     "metadata": {},
     "output_type": "execute_result"
    }
   ],
   "source": [
    "x = np.arange(10)\n",
    "b = x[x%2==0]\n",
    "b[2] = 100\n",
    "x"
   ]
  },
  {
   "cell_type": "code",
   "execution_count": 91,
   "id": "4fcaea4c",
   "metadata": {},
   "outputs": [
    {
     "name": "stdout",
     "output_type": "stream",
     "text": [
      "[[1 2 3]\n",
      " [1 2 3]\n",
      " [1 2 3]]\n",
      "[[7 7 7]\n",
      " [8 8 8]\n",
      " [9 9 9]]\n"
     ]
    }
   ],
   "source": [
    "# meshgrid\n",
    "a, b = np.meshgrid([1, 2, 3], [7, 8, 9])\n",
    "print(a)\n",
    "print(b)"
   ]
  },
  {
   "cell_type": "code",
   "execution_count": null,
   "id": "2ab4af58",
   "metadata": {},
   "outputs": [],
   "source": [
    "\n",
    "# Création d'une image 2D avec meshgrid\n",
    "\n",
    "x = linspace(-.5, .5, 100)*4*pi\n",
    "y = linspace(-.5, .5, 100)*4*pi\n",
    "X, Y = meshgrid(x, y)\n",
    "R = sqrt(X**2 + Y**2)\n",
    "imshow((sin(Y)+cos(X))*exp(-R**2/30))"
   ]
  },
  {
   "cell_type": "markdown",
   "id": "d3893f90",
   "metadata": {},
   "source": [
    "# Broadcast"
   ]
  },
  {
   "cell_type": "code",
   "execution_count": null,
   "id": "95029caf",
   "metadata": {},
   "outputs": [],
   "source": [
    "# Si sur une dimension la taille du tableau vaut 1, alors numpy peut l'étendre\n",
    "# pour qu'elle ait la même valeur que celle de l'autre tableau\n",
    "x = random.rand(5, 5)\n",
    "a = array([arange(5)])\n",
    "print(a.shape)\n",
    "x + a\n",
    "x[2:4, :] = a\n",
    "x"
   ]
  },
  {
   "cell_type": "code",
   "execution_count": null,
   "id": "d355055f",
   "metadata": {},
   "outputs": [],
   "source": [
    "x = np.arange(10)\n",
    "x + 1"
   ]
  },
  {
   "cell_type": "code",
   "execution_count": null,
   "id": "310df0f2",
   "metadata": {},
   "outputs": [],
   "source": [
    "# Il y a une syntaxe simple pour rajouter une dimension de taille 1\n",
    "# C'est newaxis\n",
    "a = arange(5)\n",
    "b = a[np.newaxis, :]\n",
    "x = random.rand(5, 5)\n",
    "x[2:4, :] = b\n",
    "x"
   ]
  },
  {
   "cell_type": "code",
   "execution_count": null,
   "id": "3e7a815d",
   "metadata": {},
   "outputs": [],
   "source": [
    "# Exemple : calculer une moyenne pondérée \n",
    "# Chaque ligne est un élève, chaque colonne un examen\n",
    "notes = random.rand(10, 5)*20\n",
    "print(notes)\n",
    "coef = array([1, 4, 2, 5, 8])"
   ]
  },
  {
   "cell_type": "code",
   "execution_count": null,
   "id": "41b2877c",
   "metadata": {},
   "outputs": [],
   "source": [
    "# Il est inutile de faire des boucles\n",
    "(notes*coef[np.newaxis, :]).sum(axis=1)/np.sum(coef)"
   ]
  },
  {
   "cell_type": "markdown",
   "id": "b9176f1c",
   "metadata": {},
   "source": [
    "# Au delà de numpy : numba\n",
    "* Calculer $\\pi$ (avec une formule très très lente!!!)\n",
    "$$ \\frac\\pi4 = \\sum_i \\frac{(-1)^i}{2i+1} = 1 - \\frac13 + \\frac 15 - \\frac17 + \\ldots $$\n"
   ]
  },
  {
   "cell_type": "code",
   "execution_count": null,
   "id": "aa9609bc",
   "metadata": {},
   "outputs": [],
   "source": [
    "def pi_python(N):\n",
    "    res = 0\n",
    "    coef = 1\n",
    "    for i in range(N):\n",
    "        res += coef/(2*i+1)\n",
    "        coef = -coef\n",
    "    return 4*res\n",
    "\n",
    "%timeit pi_python(1000000) # 155 ms\n",
    "\n",
    "def pi_np(N):\n",
    "    Ti = arange(N)\n",
    "    return 4*np.sum((1-2*(Ti%2))/(2*Ti+1))\n",
    "\n",
    "%timeit pi_np(1000000) # 28.3ms\n",
    "\n",
    "from numba import jit, int64, float64\n",
    "numba_pi = jit(float64(int64))(pi_python)\n",
    "\n",
    "@jit( float64(int64) )\n",
    "def pi_python(N):\n",
    "    res = 0\n",
    "    coef = 1\n",
    "    for i in range(N):\n",
    "        res += coef/(2*i+1)\n",
    "        coef = -coef\n",
    "    return 4*res\n",
    "%timeit numba_pi(1000000)"
   ]
  },
  {
   "cell_type": "code",
   "execution_count": null,
   "id": "992068e4",
   "metadata": {},
   "outputs": [],
   "source": [
    "# Numpy utilise des variables intermédiaires -> vitesse limitée par la mémoire\n",
    "(a + b)*c + a\n",
    "tmp1 = a + b\n",
    "tmp2 = tmp1*c\n",
    "res = tmp2 + a"
   ]
  },
  {
   "cell_type": "code",
   "execution_count": null,
   "id": "302a9feb",
   "metadata": {},
   "outputs": [],
   "source": []
  }
 ],
 "metadata": {
  "kernelspec": {
   "display_name": "Python 3",
   "language": "python",
   "name": "python3"
  },
  "language_info": {
   "codemirror_mode": {
    "name": "ipython",
    "version": 3
   },
   "file_extension": ".py",
   "mimetype": "text/x-python",
   "name": "python",
   "nbconvert_exporter": "python",
   "pygments_lexer": "ipython3",
   "version": "3.8.8"
  }
 },
 "nbformat": 4,
 "nbformat_minor": 5
}
