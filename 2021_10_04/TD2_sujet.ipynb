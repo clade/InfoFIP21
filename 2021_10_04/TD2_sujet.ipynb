{
 "cells": [
  {
   "cell_type": "markdown",
   "metadata": {},
   "source": [
    "# Volume d'une sphère\n",
    "\n",
    "On considère un nuage de points $(x, y)$ dans un plan 2D. Les variables $x$ et $y$ sont indépendantes et uniformément reparties entre -1 et 1.\n",
    "\n",
    "1. En utilisant la fonction ``np.random.rand``, créer un nuage de $M$ points et tracer \n",
    "ce nuage. On pourra prendre $M=1000$\n",
    "\n",
    "2. Tracer dans une autre couleur les points dans un cercle de rayon 1. \n",
    "\n",
    "3. En prenant $M$ assez grand (par exemple $10^8$), calculer la probabilité d'être dans le cercle. En déduire une estimation de la surface d'un disque de rayon 1. \n",
    "\n",
    "4. Même question que la question 3, mais dans un espace de dimension $N$. Par exemple $N=5$. On écrira une fonction."
   ]
  },
  {
   "cell_type": "raw",
   "metadata": {},
   "source": [
    "# Analyse des données du CAC 40\n",
    "\n",
    "Téléchager depuis le site https://www.abcbourse.com/download/valeur/PX1p les données du CAC 40 depuis 2 ans. On laissera le format 'Action bourse'.  Le fichier texte obtenu contient : l'identifiant de la valeur, la date, le cours d'ouverture, le plus haut, le plus bas, le cours de clôture et le volume de titres échangés. Ce contenu est séparé par des `;`.\n",
    "\n",
    "Remarque : la méthode `split` d'une chaine de caractère permet de la séparer en plusieurs sous chaînes. Par exemple : \n",
    "\n",
    "```\n",
    "s = '12;bonjour;3.14'\n",
    "print(s.split(';'))\n",
    "```\n",
    "\n",
    "\n",
    "\n",
    "\n",
    "1. Afficher les 10 premières lignes du fichier\n",
    "\n",
    "2. Créer une liste contenant le plus haut de la bourse jour par jour. Qu'elle est la valeur la plus haute du CAC 40 au cours des deux dernières années ?\n",
    "\n",
    "3. Écrire une fonction qui prend le jour, le mois et l'année et renvoie une chaîne de caractère pour la date sous la forme : jj/mm/aa (par exemple 11/02/19)\n",
    "\n",
    "4. Écrire une fonction qui renvoie le plus bas d'une journée à partir du jour, du mois et de l'année. Cette fonction renverra une exception si le jour n'existe pas. \n",
    "\n",
    "5. Plutôt qu'une liste, on va utiliser un dictionnaire dont la clé sera la date. Créer un dictionnaire qui contiendra pour chaque jour un dictionnaire avec pour clé : 'haut', 'bas', 'ouverture', 'fermeture', 'volume'. Par exemple on pourra utiliser :\n",
    "  ```cac_40['27/03/20']['haut']```\n",
    "\n",
    "6. Enregistrer ce dictionnaire dans un fichier au format json. Vérifier que vous pouvez l'ouvrir !\n",
    "\n",
    "7. Regarder la documentation de la fonction ``parse`` du module ``dateutil.parser`` et trouver le moyen de convertir une date sous la forme ``05/10/20`` en un nombre (nombre de jour ou nombre de seconde depuis une date donnée). \n",
    "\n",
    "8. Tracer l'évolution au cours du temps de CAC 40."
   ]
  }
 ],
 "metadata": {
  "kernelspec": {
   "display_name": "Python 3",
   "language": "python",
   "name": "python3"
  },
  "language_info": {
   "codemirror_mode": {
    "name": "ipython",
    "version": 3
   },
   "file_extension": ".py",
   "mimetype": "text/x-python",
   "name": "python",
   "nbconvert_exporter": "python",
   "pygments_lexer": "ipython3",
   "version": "3.8.8"
  }
 },
 "nbformat": 4,
 "nbformat_minor": 2
}
