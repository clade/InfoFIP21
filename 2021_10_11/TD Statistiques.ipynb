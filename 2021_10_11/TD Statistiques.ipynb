{
    "cells": [
        {
            "cell_type": "markdown",
            "metadata": {},
            "source": [
                "# Statistiques"
            ]
        },
        {
            "cell_type": "markdown",
            "metadata": {},
            "source": [
                "Dans ce TP, nous utiliserons plusieurs fonction de numpy et scipy. En particulier : \n",
                "* Distribution al\u00e9atoire : package numpy.random, fonctions rand, normal. En g\u00e9n\u00e9ral ces fonctions ont un param\u00e8tre size qui permet de faire un grand nombres de tirages. Il est aussi possible de leur envoyer un tableau de param\u00e8tre.\n",
                "\n",
                "* Histogramme : on pourra utiliser la fonction numpy.histogram ou la fonction matplotlib.pyplot.hist. Il est important d\u2019utiliser l\u2019argument optionel bins en mettant une s\u00e9quence. Par exemple numpy.histogram(data,\n",
                "bins=(a,b)) calcule le nombre de point entre a et b.\n"
            ]
        },
        {
            "cell_type": "markdown",
            "metadata": {},
            "source": [
                "# Ajustement d\u2019une courbe"
            ]
        },
        {
            "cell_type": "markdown",
            "metadata": {},
            "source": [
                "On va utiliser la fonction curve_fit du packagescipy.optimize. Cette fonction permet aussi  d\u2019obtenir  l\u2019incertitude  des  param\u00e8tres  sous  forme  d\u2019une  matrice  de  corr\u00e9lation.  Cette fonction s\u2019utilise de la fa\u00e7on suivante"
            ]
        },
        {
            "cell_type": "markdown",
            "metadata": {},
            "source": [
                "p_opt, cor_mat = curve_fit(fonction_de_fit, data_x, data_y, p_ini)"
            ]
        },
        {
            "cell_type": "markdown",
            "metadata": {},
            "source": [
                "o\u00f9 \n",
                "* fonction_de_fit(x, p1, p2, ..., pn) est la fonction de fit. Les variables p1, .., pn sont les param\u00e8tres de la fonction de fit. \n",
                "* data_x et data_y sont les points de mesure. \n",
                "* p_ini sont les param\u00e8tres initiaux (sous forme d\u2019une liste/tuple/array).\n",
                "* p_opt seront les param\u00e8tres optimaux et cor_mat est la matrice de correlation entre les param\u00e8tres."
            ]
        },
        {
            "cell_type": "markdown",
            "metadata": {},
            "source": [
                "# Fit de franges d\u2019interf\u00e9rence"
            ]
        },
        {
            "cell_type": "markdown",
            "metadata": {},
            "source": [
                "On souhaite ajuster les franges d\u2019un interf\u00e9rom\u00e8tre atomique. Les donn\u00e9es sont dans le fichierdata/fit_sinus.dat. La premi\u00e8re colonne du fichiers (axe x) repr\u00e9sente une fr\u00e9quence en Hz. La seconde colonne repr\u00e9sente la population mesur\u00e9e pour une fr\u00e9quence donn\u00e9e. L\u2019objectif est de trouver la position de la frange centrale."
            ]
        },
        {
            "cell_type": "code",
            "execution_count": null,
            "metadata": {
                "tags": [
                    "keep"
                ]
            },
            "outputs": [],
            "source": [
                "import matplotlib.pyplot as plt\n",
                "from scipy.optimize import curve_fit\n",
                "import numpy as np\n",
                "freq, amp = np.loadtxt('data/fit_sinus.dat', unpack=True)\n",
                "plt.plot(freq, amp, 'o')\n",
                "plt.xlabel('Fr\u00e9quence (Hz)')\n",
                "plt.ylabel('Amplitude')"
            ]
        },
        {
            "cell_type": "markdown",
            "metadata": {},
            "source": [
                "On ajustera par une fonction cosinus avec une amplitude, un d\u00e9calage vertical, une position centrale et une largeur ajustable (soit quatre param\u00e8tres).\n",
                "\n",
                "1. \u00c9crivez   la   fonction   de   fit   qui   d\u00e9pend   des   param\u00e8tres   ci   dessus.   On   appellera frange(x, ...).  Tracez  la  courbe  pour  x  entre \u00b1220 Hz.  On  prendra  un  inter-frange de 200 Hz.\n",
                "2. Chargez et tracez les donn\u00e9es. On repr\u00e9sentera les donn\u00e9es par des points (plot(...,..., 'o')).\n",
                "3. Calculez les param\u00e8tres optimaux. Quelle est la position la frange centrale ? Repr\u00e9sentez les points et la courbe.\n",
                "4. Quelle est l\u2019incertitude sur la position de la frange centrale ?"
            ]
        },
        {
            "cell_type": "markdown",
            "metadata": {},
            "source": [
                "# Corr\u00e9lation\n",
                "On simule une jeu de donn\u00e9es."
            ]
        },
        {
            "cell_type": "code",
            "execution_count": null,
            "metadata": {
                "tags": [
                    "keep"
                ]
            },
            "outputs": [],
            "source": [
                "np.random.seed(0) # pour que le g\u00e9n\u00e9rateur \"al\u00e9atoire\" soit le m\u00eame pour tout le monde\n",
                "N = 100\n",
                "x = np.linspace(2000, 2018, N)\n",
                "y = np.arange(N)*0.2 + 45 + np.random.normal(size=N)\n",
                "\n",
                "plt.plot(x, y, 'o');"
            ]
        },
        {
            "cell_type": "markdown",
            "metadata": {},
            "source": [
                "1. Tracez et ajustez les donn\u00e9es par une une droite $y=ax+b$.\n",
                "\n",
                "2. Quel est l\u2019incertitude sur $b$? Qu\u2019en pensez-vous ?\n",
                "\n",
                "3. Calculez la valeur et l\u2019incertitude de votre fit en $x= 2010$.\n",
                "\n",
                "4. R\u00e9alisez $M$ simulations ($M$ = 1000 par exemples); tracez sur un graph les coefficients a et b; Calculez la matrice de covariance.\n",
                "\n",
                "5. Trouvez une fonction de fit plus pertinente pour ce probl\u00e8me."
            ]
        },
        {
            "cell_type": "markdown",
            "metadata": {},
            "source": [
                "# Estimateur\n",
                "## Loi normale"
            ]
        },
        {
            "cell_type": "markdown",
            "metadata": {},
            "source": [
                "On consid\u00e8re une variable al\u00e9atoire distribu\u00e9e selon une loi normale d'\u00e9cart type $\\sigma$ et de centre $\\mu$:\n",
                "$$ P(x; \\mu, \\sigma) = \\frac{1}{\\sqrt{2\\pi}\\sigma}e^{-\\frac{(x-\\mu)^2}{2\\sigma^2}}$$\n",
                "\n",
                "On consid\u00e8re un \u00e9chantillon de $N$ r\u00e9alisations de la loi : $x_i$. \n",
                "\n",
                "La vraissemblance est donn\u00e9e par :\n",
                "$$\\mathcal L(\\mu, \\sigma; x_i) = \\prod_i P(x_i; \\mu, \\sigma) $$\n",
                "\n",
                "Plut\u00f4t que de maximiser la vraissemblance, on va minimiser $-\\ln\\mathcal L$. \n",
                "D\u00e9montrer que la maximum est obtenu avec :\n",
                "$$\\hat\\mu = \\frac{1}{N}\\sum_ix_i$$\n",
                "et\n",
                "$$\\hat\\sigma^2 = \\frac{1}{N}\\sum_i(x_i-\\hat\\mu)^2$$\n",
                "\n",
                "Les estimateurs que l'on a obtenus pour l'esp\u00e9rance $\\mu$ et pour l'\u00e9cart type $\\sigma$ de la loi sont donn\u00e9s par la moyenne et l'\u00e9cart type des points. \n",
                "\n",
                "Un estimateur est caract\u00e9ris\u00e9 par son biais et son \u00e9cart type. Ce calcul se fera en simulant un nombre $M$ de fois l'estimateur (typiquement M=100000).\n",
                "\n",
                "1. \u00c9crire les fonctions $\\hat\\sigma$ et $\\hat\\mu$. Ces fonctions doivent \u00eatre vectoris\u00e9 pour $M$ (i.e. fonctionner avec un tableau de taille $(M, N)$\n",
                "\n",
                "2.  Calculer num\u00e9riquement le biais et l'\u00e9cart de ces estimateurs pour $N=10$ et $N=100$ (pour $\\mu=0$ et $\\sigma=1$).  Sont ils biais\u00e9s ? Semblent-ils convergents ? \n",
                "\n",
                "## Loi uniforme\n",
                "On consid\u00e8re une loi uniforme entre $a$ et $b$ ($b>a$). L'esp\u00e9rance de cette loi est $\\mu = (a+b)/2$. On note $L=b-a$ (largeur de l'intervale). L'\u00e9cart type est proportionnel \u00e0 $L$ et on peut montrer qu'il vaut $\\frac{L}{2\\sqrt{3}}$. \n",
                "\n",
                "3. Caract\u00e9riser pour cette loi l'estimateur de $\\mu$ donn\u00e9 par la moyenne et de $L$ donn\u00e9, au facteur $2\\sqrt{3}$ pr\u00e8s par l'\u00e9cart type. On prendra $N=10$ et $N=100$.\n",
                "\n",
                "4. D\u00e9montrer que $\\mathcal L(a, b; x_i) = \\frac1{(b-a)^N}$ si $a\\leq \\min x_i$ et $b\\geq \\max x_i$ et 0 sinon. En d\u00e9duire que le maximum de vraissemblance conduit \u00e0 :\n",
                "$$\\hat a = \\min x_i$$ et $$\\hat b = \\max x_i$$ soit $$\\hat\\mu = (\\max x_i + \\min x_i)/2$$ et $$\\hat L = (\\max x_i - \\min x_i)$$. \n",
                "\n",
                "5. Caract\u00e9riser ces deux estimateurs. \n",
                "\n",
                "6. Comparez graphiquement l'\u00e9cart type des deux estimateurs de $\\mu$ pour $N$ entre $10$ et $1000$\n",
                "\n",
                "7. A l'aide d'un histogramme, comparez pour $N=20$ la distribution de ces deux estimateurs. "
            ]
        }
    ],
    "metadata": {
        "celltoolbar": "Tags",
        "kernelspec": {
            "display_name": "Python 3",
            "language": "python",
            "name": "python3"
        },
        "language_info": {
            "codemirror_mode": {
                "name": "ipython",
                "version": 3
            },
            "file_extension": ".py",
            "mimetype": "text/x-python",
            "name": "python",
            "nbconvert_exporter": "python",
            "pygments_lexer": "ipython3",
            "version": "3.8.8"
        }
    },
    "nbformat": 4,
    "nbformat_minor": 2
}
