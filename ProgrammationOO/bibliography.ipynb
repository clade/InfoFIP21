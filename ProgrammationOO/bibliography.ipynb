{
 "cells": [
  {
   "cell_type": "code",
   "execution_count": 2,
   "id": "28143380",
   "metadata": {},
   "outputs": [],
   "source": [
    "class Book:\n",
    "    def __init__(self, title, author, year, key=None):\n",
    "        self.title = title\n",
    "        self.author = author\n",
    "        self.year = year\n",
    "        if key is None:\n",
    "            key = self._create_key()\n",
    "        self.key = key\n",
    "    \n",
    "    def _create_key(self):\n",
    "        last_name = self.author.split(' ')[-1]\n",
    "        return f'{last_name}{self.year}'\n",
    "        \n",
    "    def __repr__(self):\n",
    "        return f'Book({self.title!r}, {self.author!r}, {self.year}, key={self.key!r})'    \n",
    "\n",
    "    def to_latex(self):\n",
    "        return fr\"\"\"\\bibitem{{{self.key}}}\n",
    "{self.author} ({self.year}) \\emph{{{self.title}}}\"\"\"\n",
    "    \n",
    "    def to_html_line(self):\n",
    "        return fr\"\"\"    <tr><td>{self.author}</td><td>{self.year}</td><td>{self.title}</td></tr>\"\"\"\n",
    "\n",
    "class Bibliography:\n",
    "    def __init__(self, list_of_book):\n",
    "        self.list_of_book = list_of_book\n",
    "        \n",
    "    def __repr__(self):\n",
    "        return f'Bibliography({self.list_of_book!r})'\n",
    "    \n",
    "    def to_latex(self):\n",
    "        s = [book.to_latex() for book in self.list_of_book]\n",
    "        s = '\\n\\n'.join(s)\n",
    "        return fr\"\"\"\\begin{{thebibliography}}{{9}}\n",
    "{s}\n",
    "\\end{{thebibliography}}\n",
    "        \"\"\"\n",
    "    \n",
    "    def filter_by_year(self, the_year):\n",
    "        return Bibliography([book for book in self.list_of_book\n",
    "                                    if book.year==the_year])\n",
    "    \n",
    "    def to_html(self):\n",
    "        s = [book.to_html_line() for book in self.list_of_book]\n",
    "        s = '\\n'.join(s)\n",
    "        return fr\"\"\"<table>\n",
    "    <thead>\n",
    "        <tr> <th>Auteur</th><th>Titre</th><th>Année</th></tr>\n",
    "    </thead>\n",
    "    <tbody>\n",
    "{s}\n",
    "    </tbody>\n",
    "</table>\n",
    "\"\"\"\n",
    "    \n",
    "    def _repr_html_(self):\n",
    "        return self.to_html()\n",
    "    \n",
    "    @property\n",
    "    def number_of_books(self):\n",
    "        return len(self.list_of_book)"
   ]
  },
  {
   "cell_type": "code",
   "execution_count": 3,
   "id": "d79e726a",
   "metadata": {},
   "outputs": [
    {
     "name": "stdout",
     "output_type": "stream",
     "text": [
      "Book('A very nice book', 'F. Dupont', 2014, key='Dupont2014')\n",
      "\\bibitem{Dupont2014}\n",
      "F. Dupont (2014) \\emph{A very nice book}\n"
     ]
    }
   ],
   "source": [
    "book1 = Book(\"A very nice book\", \"F. Dupont\", 2014)\n",
    "book2 = Book(\"A very smart book\", \"A. Einstein\", 1923)\n",
    "book3 = Book(\"A very stupid comics\", \"D. Duck\", 1937)\n",
    "\n",
    "print(book1)\n",
    "print(book1.to_latex())"
   ]
  },
  {
   "cell_type": "code",
   "execution_count": 4,
   "id": "efb9b14a",
   "metadata": {},
   "outputs": [
    {
     "name": "stdout",
     "output_type": "stream",
     "text": [
      "\\begin{thebibliography}{9}\n",
      "\\bibitem{Dupont2014}\n",
      "F. Dupont (2014) \\emph{A very nice book}\n",
      "\n",
      "\\bibitem{Einstein1923}\n",
      "A. Einstein (1923) \\emph{A very smart book}\n",
      "\n",
      "\\bibitem{Duck1937}\n",
      "D. Duck (1937) \\emph{A very stupid comics}\n",
      "\\end{thebibliography}\n",
      "        \n"
     ]
    }
   ],
   "source": [
    "bibliography = Bibliography([book1, book2, book3])\n",
    "print(bibliography.to_latex())"
   ]
  },
  {
   "cell_type": "code",
   "execution_count": 5,
   "id": "ab4bffb5",
   "metadata": {},
   "outputs": [
    {
     "data": {
      "text/html": [
       "<table>\n",
       "    <thead>\n",
       "        <tr> <th>Auteur</th><th>Titre</th><th>Année</th></tr>\n",
       "    </thead>\n",
       "    <tbody>\n",
       "    <tr><td>F. Dupont</td><td>2014</td><td>A very nice book</td></tr>\n",
       "    <tr><td>A. Einstein</td><td>1923</td><td>A very smart book</td></tr>\n",
       "    <tr><td>D. Duck</td><td>1937</td><td>A very stupid comics</td></tr>\n",
       "    </tbody>\n",
       "</table>\n"
      ],
      "text/plain": [
       "Bibliography([Book('A very nice book', 'F. Dupont', 2014, key='Dupont2014'), Book('A very smart book', 'A. Einstein', 1923, key='Einstein1923'), Book('A very stupid comics', 'D. Duck', 1937, key='Duck1937')])"
      ]
     },
     "execution_count": 5,
     "metadata": {},
     "output_type": "execute_result"
    }
   ],
   "source": [
    "bibliography"
   ]
  },
  {
   "cell_type": "code",
   "execution_count": 6,
   "id": "94bf7061",
   "metadata": {},
   "outputs": [
    {
     "name": "stdout",
     "output_type": "stream",
     "text": [
      "<table>\n",
      "    <thead>\n",
      "        <tr> <th>Auteur</th><th>Titre</th><th>Année</th></tr>\n",
      "    </thead>\n",
      "    <tbody>\n",
      "    <tr><td>F. Dupont</td><td>2014</td><td>A very nice book</td></tr>\n",
      "    <tr><td>A. Einstein</td><td>1923</td><td>A very smart book</td></tr>\n",
      "    <tr><td>D. Duck</td><td>1937</td><td>A very stupid comics</td></tr>\n",
      "    </tbody>\n",
      "</table>\n",
      "\n"
     ]
    }
   ],
   "source": [
    "print(bibliography.to_html())"
   ]
  }
 ],
 "metadata": {
  "kernelspec": {
   "display_name": "Python 3",
   "language": "python",
   "name": "python3"
  },
  "language_info": {
   "codemirror_mode": {
    "name": "ipython",
    "version": 3
   },
   "file_extension": ".py",
   "mimetype": "text/x-python",
   "name": "python",
   "nbconvert_exporter": "python",
   "pygments_lexer": "ipython3",
   "version": "3.8.8"
  }
 },
 "nbformat": 4,
 "nbformat_minor": 5
}
