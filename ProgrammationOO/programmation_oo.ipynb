{
 "cells": [
  {
   "cell_type": "markdown",
   "metadata": {},
   "source": [
    "# Programmation orientée objet\n",
    "\n",
    "Comment créer se propres objets en Python. \n",
    "\n",
    "## Vocabulaire\n",
    "\n",
    "En python tout ce que l'on manipule est un objet : \n",
    "* Nombre, liste, dictionnaire, ...\n",
    "* Tableau numpy\n",
    "* Fonction, module, ....\n",
    "\n",
    "Un objet possède des **attributs**. Exemple : \n",
    "\n",
    "    z = 1.1J\n",
    "    z.real\n",
    "    a = np.array([1, 2, 4])\n",
    "    a.shape\n",
    "    \n",
    "Un objet possède des **méthodes**. Exemple :\n",
    "\n",
    "    a.mean()\n",
    "    a.conjugate()\n",
    "    z.conjugate()\n",
    "    \n",
    "Les méthodes sont des fonctions attachées à l'objet. La méthode conjugate d'un tableau n'est pas la même que la méthode conjugate d'un complexe\n",
    "\n",
    "## Comment créer un objet\n",
    "\n",
    "### Créer un nombre complexe\n"
   ]
  },
  {
   "cell_type": "code",
   "execution_count": 5,
   "metadata": {},
   "outputs": [],
   "source": [
    "import numbers\n",
    "import math\n",
    "import numpy as np\n",
    "\n",
    "class Complexe:\n",
    "    def __init__(self, re, im):\n",
    "        self.re = re\n",
    "        self.im = im\n",
    "        \n",
    "    def conjugate(self):\n",
    "        return Complexe(self.re, -self.im)\n",
    "    \n",
    "    def __repr__(self):\n",
    "        return f\"Complexe({self.re}, {self.im})\"\n",
    "\n",
    "    def __str__(self):\n",
    "        if self.im>0:\n",
    "            return f\"{self.re} + {self.im}J\"\n",
    "        elif self.im<0:\n",
    "            return f\"{self.re} - {-self.im}J\"\n",
    "        else:\n",
    "            return f\"{self.re}\"\n",
    "        \n",
    "    def __add__(self, other):\n",
    "        other = self._make_other_complexe(other)\n",
    "        if isinstance(other, Complexe):\n",
    "            return Complexe(self.re + other.re, self.im + other.im)\n",
    "        return NotImplemented\n",
    "    \n",
    "    def __radd__(self, other):\n",
    "        return self + other\n",
    "    \n",
    "    def __eq__(self, other):\n",
    "        other = self._make_other_complexe(other)\n",
    "        if isinstance(other, Complexe):\n",
    "            return math.isclose(self.re, other.re) and math.isclose(self.im, other.im)\n",
    "        return NotImplemented\n",
    "        \n",
    "    @staticmethod\n",
    "    def _make_other_complexe(other):\n",
    "#        if isinstance(other, int) or isinstance(other, float):\n",
    "#        if isinstance(other, (int, float)):\n",
    "        if isinstance(other, numbers.Real):\n",
    "            other = Complexe(other, 0)\n",
    "        return other\n",
    "    \n",
    "    def __mul__(self, other):\n",
    "        other = self._make_other_complexe(other)\n",
    "        if isinstance(other, Complexe):\n",
    "            return Complexe(self.re*other.re - self.im*other.im,\n",
    "                           self.re*other.im + self.im*other.re)\n",
    "        return NotImplemented\n",
    "    \n",
    "    @property\n",
    "    def r(self):\n",
    "        return np.abs(self.re**2 + self.im**2)\n",
    "    \n",
    "    @property\n",
    "    def theta(self):\n",
    "        return math.atan2(self.im, self.re)"
   ]
  },
  {
   "cell_type": "code",
   "execution_count": 6,
   "metadata": {},
   "outputs": [
    {
     "name": "stdout",
     "output_type": "stream",
     "text": [
      "4 + 0.6000000000000001J\n"
     ]
    },
    {
     "data": {
      "text/plain": [
       "True"
      ]
     },
     "execution_count": 6,
     "metadata": {},
     "output_type": "execute_result"
    }
   ],
   "source": [
    "z1 = Complexe(1, 2)\n",
    "z2 = Complexe(3, -1.4)\n",
    "\n",
    "print(z1 + z2)\n",
    "z1+z2 == Complexe(4, 0.6)"
   ]
  },
  {
   "cell_type": "code",
   "execution_count": 7,
   "metadata": {},
   "outputs": [
    {
     "data": {
      "text/plain": [
       "Complexe(-0.9999999999999998, 1.1102230246251565e-16)"
      ]
     },
     "execution_count": 7,
     "metadata": {},
     "output_type": "execute_result"
    }
   ],
   "source": [
    "import math\n",
    "z1 = Complexe(1/2, math.sqrt(3)/2)\n",
    "z1*z1*z1"
   ]
  },
  {
   "cell_type": "code",
   "execution_count": 8,
   "metadata": {},
   "outputs": [
    {
     "data": {
      "text/plain": [
       "1.0471975511965976"
      ]
     },
     "execution_count": 8,
     "metadata": {},
     "output_type": "execute_result"
    }
   ],
   "source": [
    "z1.r\n",
    "z1.theta"
   ]
  },
  {
   "cell_type": "code",
   "execution_count": 9,
   "metadata": {},
   "outputs": [
    {
     "data": {
      "text/plain": [
       "Complexe(2.5, 0.8660254037844386)"
      ]
     },
     "execution_count": 9,
     "metadata": {},
     "output_type": "execute_result"
    }
   ],
   "source": [
    "2 + z1 # z1.__radd__(2)"
   ]
  },
  {
   "cell_type": "markdown",
   "metadata": {},
   "source": [
    "#### Les décorateurs"
   ]
  },
  {
   "cell_type": "code",
   "execution_count": 10,
   "metadata": {},
   "outputs": [
    {
     "name": "stdout",
     "output_type": "stream",
     "text": [
      "Bonjour\n",
      "Bonjour\n"
     ]
    },
    {
     "data": {
      "text/plain": [
       "12"
      ]
     },
     "execution_count": 10,
     "metadata": {},
     "output_type": "execute_result"
    }
   ],
   "source": [
    "def dit_bonjour(f):\n",
    "    def nouvelle_fonction(*args, **kwd):\n",
    "        print('Bonjour')\n",
    "        return f(*args, **kwd)\n",
    "    return nouvelle_fonction\n",
    "\n",
    "@dit_bonjour\n",
    "def f(x, y):\n",
    "    return x + y\n",
    "\n",
    "# f = dit_bonjour(f)\n",
    "\n",
    "\n",
    "@dit_bonjour\n",
    "def g(x, y):\n",
    "    return x * y\n",
    "\n",
    "\n",
    "f(1, 2)\n",
    "\n",
    "\n",
    "g(3, 4)"
   ]
  },
  {
   "cell_type": "code",
   "execution_count": null,
   "metadata": {},
   "outputs": [],
   "source": []
  },
  {
   "cell_type": "markdown",
   "metadata": {},
   "source": [
    "### Instrumentation\n",
    "\n",
    "Exemple : oscilloscope (c.f. TP)"
   ]
  },
  {
   "cell_type": "code",
   "execution_count": 11,
   "metadata": {},
   "outputs": [
    {
     "data": {
      "text/plain": [
       "{'compagnie': 'TEKTRONIX', 'model': 'DPO3014', 'serial': 'C012048'}"
      ]
     },
     "execution_count": 11,
     "metadata": {},
     "output_type": "execute_result"
    }
   ],
   "source": [
    "from fake_scpi import FakeSCPI\n",
    "inst = FakeSCPI()\n",
    "\n",
    "def set_frequency(inst, freq=1000):\n",
    "    command = f'FREQ {freq:.3f}'\n",
    "    inst.write(command)\n",
    "\n",
    "def get_frequency(inst):\n",
    "    command = f'FREQ?'\n",
    "    return float(inst.query(command))\n",
    "\n",
    "def get_model_identification(inst):\n",
    "    res = inst.query(\"*IDN?\")\n",
    "    comp, model, serial, _ = res.split(',') \n",
    "    dic = {'compagnie':comp,\n",
    "          'model':model,\n",
    "          'serial':serial}\n",
    "    return dic\n",
    "\n",
    "set_frequency(inst, 100)\n",
    "get_frequency(inst)\n",
    "get_model_identification(inst)"
   ]
  },
  {
   "cell_type": "code",
   "execution_count": 12,
   "metadata": {},
   "outputs": [],
   "source": [
    "class Instrument(object):\n",
    "    def __init__(self, conn):\n",
    "        self._conn = conn\n",
    "        \n",
    "    def get_model_identification(self):\n",
    "        res = self._conn.query(\"*IDN?\")\n",
    "        comp, model, serial, _ = res.split(',') \n",
    "        dic = {'compagnie':comp,\n",
    "              'model':model,\n",
    "              'serial':serial}\n",
    "        return dic\n",
    "\n",
    "    \n",
    "class TektronixGBF(Instrument):\n",
    "    def set_frequency(self, freq=1000):\n",
    "        command = f'FREQ {freq:.3f}'\n",
    "        self._conn.write(command)\n",
    "\n",
    "    def get_frequency(self):\n",
    "        command = f'FREQ?'\n",
    "        return float(self._conn.query(command))\n",
    "    \n",
    "    frequency = property(get_frequency, set_frequency)\n",
    "        \n",
    "class AgilentGBF(Instrument):\n",
    "    def set_frequency(self, freq=1000):\n",
    "        command = f'FRE {freq:.3f}'\n",
    "        self._conn.write(command)\n",
    "\n",
    "    def get_frequency(self):\n",
    "        command = f'FRE?'\n",
    "        return float(self._conn.query(command))\n",
    "\n",
    "gbf = TektronixGBF(FakeSCPI())"
   ]
  },
  {
   "cell_type": "code",
   "execution_count": 13,
   "metadata": {},
   "outputs": [
    {
     "name": "stdout",
     "output_type": "stream",
     "text": [
      "56.0\n"
     ]
    }
   ],
   "source": [
    "gbf.set_frequency(56)\n",
    "print(gbf.get_frequency())"
   ]
  },
  {
   "cell_type": "code",
   "execution_count": 14,
   "metadata": {},
   "outputs": [
    {
     "name": "stdout",
     "output_type": "stream",
     "text": [
      "10.0\n"
     ]
    }
   ],
   "source": [
    "gbf.frequency = 10\n",
    "print(gbf.frequency)"
   ]
  },
  {
   "cell_type": "code",
   "execution_count": 15,
   "metadata": {},
   "outputs": [],
   "source": [
    "class Test:\n",
    "    def __init__(self, a):\n",
    "        self.a = a\n",
    "\n",
    "    @classmethod\n",
    "    def load(cls):\n",
    "        return cls(2)\n",
    "    \n",
    "def load():\n",
    "    return Test(2)"
   ]
  },
  {
   "cell_type": "code",
   "execution_count": 16,
   "metadata": {},
   "outputs": [
    {
     "data": {
      "text/plain": [
       "<__main__.Test at 0x7fe8b46225b0>"
      ]
     },
     "execution_count": 16,
     "metadata": {},
     "output_type": "execute_result"
    }
   ],
   "source": [
    "Test.load()"
   ]
  },
  {
   "cell_type": "code",
   "execution_count": null,
   "metadata": {},
   "outputs": [],
   "source": []
  },
  {
   "cell_type": "code",
   "execution_count": null,
   "metadata": {},
   "outputs": [],
   "source": []
  },
  {
   "cell_type": "markdown",
   "metadata": {},
   "source": [
    "### Exercice : vecteur3D"
   ]
  },
  {
   "cell_type": "code",
   "execution_count": null,
   "metadata": {},
   "outputs": [],
   "source": []
  },
  {
   "cell_type": "markdown",
   "metadata": {},
   "source": [
    "### Exercice : livre et bibliographie"
   ]
  },
  {
   "cell_type": "code",
   "execution_count": null,
   "metadata": {},
   "outputs": [],
   "source": []
  },
  {
   "cell_type": "code",
   "execution_count": null,
   "metadata": {},
   "outputs": [],
   "source": []
  },
  {
   "cell_type": "markdown",
   "metadata": {},
   "source": [
    "## Nouveaux concepts\n",
    "\n",
    "\n",
    "\n",
    "### Méthodes spéciales\n",
    "\n",
    "- `__init__`\n",
    "- `__repr__`, `__str__`\n",
    "\n",
    "Lorsque c'est possible, `__repr__` doit représenté au mieux l'objet. Souvent il s'agit d'une chaine de caractère qui en étant évaluée renvoie un objet similaire. La méthode `__str__` renvoie `__repr__` par défaut. Sinon, elle doit être plus simple.\n",
    "\n",
    "Opérateur unaire et binaire\n",
    "\n",
    "- `__neg__`\n",
    "- `__add__`, `__sub__`, `__mul__`, `__truediv__`, `__mod__`, `__pow__`\n",
    "- `__radd__`, ...\n",
    "- `__eq__` (==), `__ne__` (!=), `__lt__` (<), `__le__` (<=), `__gt__`, `__ge__`\n",
    "- `__or__` (|), `__and__` (&), `__xor__`(^)\n",
    "\n",
    "\n",
    "Emulateur de contenu\n",
    "\n",
    "- a[key] => `a.__getitem__(key)`\n",
    "- a[key] = val => `a.__setitem__(key, val)`\n",
    "- del a[key] => `a.__delitem__(key)`\n",
    "- len(a) => `a.__len__()`\n",
    "- for elm in a => `for elm in a.__iter__()`\n",
    "\n",
    "### Attributs et property\n",
    "\n",
    "- Attributs de class vs attributs d'objets\n",
    "- property\n",
    "\n",
    "### Héritage\n",
    "\n",
    "- isinstance permet de tester si un objet est une instance d'une classe. "
   ]
  },
  {
   "cell_type": "code",
   "execution_count": null,
   "metadata": {},
   "outputs": [],
   "source": []
  },
  {
   "cell_type": "markdown",
   "metadata": {},
   "source": [
    "### Circuit électrique\n",
    "\n",
    "![circuit](kicad.sch.png \"Exemple de circuit\")\n",
    "\n",
    "Objectif : faire comprendre à Python ce circuit pour pouvoir ensuite faire des calculs. Ici, on demandera de calculer l'impédance complexe à une fréquence donnée.\n",
    "\n",
    "Stucture en arbre : \n",
    "<code>\n",
    "Serie :\n",
    "    |- Parallel:\n",
    "    |   |-inductance\n",
    "    |   |-resistance\n",
    "    |   |-condensateur\n",
    "    |- resistance\n",
    "</code>\n",
    "\n",
    "\n",
    "Il y a plusieurs objets de nature différente donc de classe différente (résistance, condensateur, circuit parallèle, ...). Mais ces objets sont tous des circuits bibolaires. Tous ces objets devront mettre en oeuvre un méthode pour calculer leur impédance à une fréquence donnée. \n",
    "\n",
    "Code final en Python (objectif à atteindre pour que l'objet soit le plus simple à utiliser):\n",
    "\n",
    "    R1 = Resistance(10)\n",
    "    R2 = Resistance(5)\n",
    "    L1 = Inductance(15E-6)\n",
    "    C1 = Condensateur(10E-6)\n",
    "\n",
    "    circuit = R2 + (L1|R1|C1)\n",
    "    \n",
    "    print(circuit.impedance(50))\n",
    "    isinstance(R1, CircuitBipolaire) # True\n",
    "    isinstance(circuit, CircuitBipolaire) # True    \n",
    "\n",
    "\n"
   ]
  },
  {
   "cell_type": "code",
   "execution_count": 17,
   "metadata": {},
   "outputs": [
    {
     "name": "stdout",
     "output_type": "stream",
     "text": [
      "R(10)\n"
     ]
    },
    {
     "data": {
      "text/plain": [
       "Parallel(Resistance(10), Condensateur(1e-05))"
      ]
     },
     "execution_count": 17,
     "metadata": {},
     "output_type": "execute_result"
    }
   ],
   "source": [
    "import math\n",
    "import sympy\n",
    "\n",
    "class CircuitBipolaire(object):\n",
    "    def admittance(self, freq):\n",
    "        return 1/self.impedance(freq)\n",
    "    \n",
    "    def __add__(self, other):\n",
    "        return Serie(self, other)\n",
    "\n",
    "    def __or__(self, other):\n",
    "        return Parallel(self, other)\n",
    "    \n",
    "class CircuitElementaire(CircuitBipolaire):\n",
    "    def __init__(self, val):\n",
    "        self.val = val\n",
    "    \n",
    "    def __repr__(self):\n",
    "        return f'{self.__class__.__name__}({self.val})' \n",
    "    \n",
    "    def __str__(self):\n",
    "        initiale = self.__class__.__name__[0]\n",
    "        return f'{initiale}({self.val})' \n",
    "\n",
    "\n",
    "class Resistance(CircuitElementaire):\n",
    "    def impedance(self, freq):\n",
    "        return self.val\n",
    "\n",
    "class Condensateur(CircuitElementaire):\n",
    "    def impedance(self, freq):\n",
    "        if isinstance(self.val, sympy.Expr):\n",
    "            return 1/(2*self.val*sympy.pi*freq*sympy.I)\n",
    "        else:\n",
    "            return 1/(2*self.val*math.pi*freq*1J)\n",
    "    \n",
    "class Inductance(CircuitElementaire):\n",
    "    def impedance(self, freq):\n",
    "        if isinstance(self.val, sympy.Expr):\n",
    "            return (2*self.val*sympy.pi*freq*sympy.I)\n",
    "        else:\n",
    "            return (2*self.val*math.pi*freq*1J)\n",
    "\n",
    "    \n",
    "class CircuitCompose(CircuitBipolaire):\n",
    "    def __init__(self, circ1, circ2):\n",
    "        self.circ1 = circ1\n",
    "        self.circ2 = circ2\n",
    "        \n",
    "    def __repr__(self):\n",
    "        return f'{self.__class__.__name__}({self.circ1!r}, {self.circ2!r})' \n",
    "\n",
    "class Parallel(CircuitCompose):\n",
    "    def impedance(self, freq):\n",
    "        #return 1/(self.circ1.admittance(freq) + self.circ2.admittance(freq))\n",
    "        Z1, Z2 = self.circ1.impedance(freq), self.circ2.impedance(freq)\n",
    "        return Z1*Z2/(Z1+Z2)\n",
    "        \n",
    "    def __str__(self):\n",
    "        return f'({self.circ1!s} | {self.circ2!s})'\n",
    "\n",
    "class Serie(CircuitCompose):\n",
    "    def impedance(self, freq):\n",
    "        return self.circ1.impedance(freq) + self.circ2.impedance(freq)\n",
    "\n",
    "    def __str__(self):\n",
    "        return f'({self.circ1!s} + {self.circ2!s})'\n",
    "\n",
    "    \n",
    "\n",
    "R1 = Resistance(10)\n",
    "C1 = Condensateur(10E-6)\n",
    "print(R1) # R(10)\n",
    "Parallel(R1, C1).impedance(1000)\n",
    "R1|C1"
   ]
  },
  {
   "cell_type": "code",
   "execution_count": 18,
   "metadata": {},
   "outputs": [
    {
     "name": "stdout",
     "output_type": "stream",
     "text": [
      "(R(5) + ((I(1.5e-05) | R(10)) | C(1e-05)))\n"
     ]
    }
   ],
   "source": [
    "R1 = Resistance(10)\n",
    "R2 = Resistance(5)\n",
    "L1 = Inductance(15E-6)\n",
    "C1 = Condensateur(10E-6)\n",
    "\n",
    "circuit = R2 + (L1|R1|C1)\n",
    "print(circuit)"
   ]
  },
  {
   "cell_type": "code",
   "execution_count": 19,
   "metadata": {},
   "outputs": [
    {
     "data": {
      "text/plain": [
       "Text(0.5, 0, 'Frequency (Hz)')"
      ]
     },
     "execution_count": 19,
     "metadata": {},
     "output_type": "execute_result"
    },
    {
     "data": {
      "image/png": "[encoded data removed]",
      "text/plain": [
       "<Figure size 432x288 with 2 Axes>"
      ]
     },
     "metadata": {
      "needs_background": "light"
     },
     "output_type": "display_data"
    }
   ],
   "source": [
    "import numpy as np\n",
    "from matplotlib.pyplot import figure\n",
    "fig = figure()\n",
    "ax1, ax2 = fig.subplots(2, 1, sharex=True)\n",
    "\n",
    "Tfreq = np.logspace(3, 5, 201)\n",
    "Z = circuit.impedance(Tfreq)\n",
    "\n",
    "ax1.loglog(Tfreq, np.abs(Z)**2)\n",
    "ax1.set_ylabel('$|Z|^2$')\n",
    "ax2.semilogx(Tfreq, np.angle(Z))\n",
    "ax2.set_ylabel('\\phi')\n",
    "ax2.set_xlabel('Frequency (Hz)')\n"
   ]
  },
  {
   "cell_type": "code",
   "execution_count": 20,
   "metadata": {},
   "outputs": [
    {
     "data": {
      "text/plain": [
       "Serie(Resistance(R2), Parallel(Parallel(Inductance(L1), Resistance(R1)), Condensateur(C1)))"
      ]
     },
     "execution_count": 20,
     "metadata": {},
     "output_type": "execute_result"
    }
   ],
   "source": [
    "from sympy import *\n",
    "\n",
    "R1 = Resistance(Symbol('R1'))\n",
    "R2 = Resistance(Symbol('R2'))\n",
    "L1 = Inductance(Symbol('L1'))\n",
    "C1 = Condensateur(Symbol('C1'))\n",
    "\n",
    "L2 = Inductance(Symbol('L2'))\n",
    "C2 = Condensateur(Symbol('C2'))\n",
    "\n",
    "circuit = R2 + (L1|R1|C1)\n",
    "circuit"
   ]
  },
  {
   "cell_type": "code",
   "execution_count": 21,
   "metadata": {},
   "outputs": [
    {
     "data": {
      "text/latex": [
       "$\\displaystyle \\frac{i \\left(L_{1} R_{1} \\omega - i R_{2} \\left(- C_{1} L_{1} R_{1} \\omega^{2} + i L_{1} \\omega + R_{1}\\right)\\right)}{- C_{1} L_{1} R_{1} \\omega^{2} + i L_{1} \\omega + R_{1}}$"
      ],
      "text/plain": [
       "I*(L1*R1*omega - I*R2*(-C1*L1*R1*omega**2 + I*L1*omega + R1))/(-C1*L1*R1*omega**2 + I*L1*omega + R1)"
      ]
     },
     "execution_count": 21,
     "metadata": {},
     "output_type": "execute_result"
    }
   ],
   "source": [
    "freq = Symbol('omega')/(2*sympy.pi)\n",
    "simplify(circuit.impedance(freq))"
   ]
  }
 ],
 "metadata": {
  "kernelspec": {
   "display_name": "Python 3",
   "language": "python",
   "name": "python3"
  },
  "language_info": {
   "codemirror_mode": {
    "name": "ipython",
    "version": 3
   },
   "file_extension": ".py",
   "mimetype": "text/x-python",
   "name": "python",
   "nbconvert_exporter": "python",
   "pygments_lexer": "ipython3",
   "version": "3.8.8"
  }
 },
 "nbformat": 4,
 "nbformat_minor": 2
}
