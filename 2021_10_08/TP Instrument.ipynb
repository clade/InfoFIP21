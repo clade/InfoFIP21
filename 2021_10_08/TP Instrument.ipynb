{
    "cells": [
        {
            "cell_type": "markdown",
            "metadata": {},
            "source": [
                "# Introduction\n",
                "\n",
                "\n",
                "L'objectif de l'interfa\u00e7age d'un instrument est d'envoyer des instructions depuis l'ordinateur afin que celui-ci effectue des op\u00e9rations normalement faites manuellement. \n",
                "\n",
                "## Liste du mat\u00e9riel\n",
                "* Ordinateur avec install\u00e9 : anaconda, VISA, pyvisa\n",
                "* Oscilloscope (Rigol, DS1052E)\n",
                "* G\u00e9n\u00e9rateur (Rigol, DG1022)\n",
                "* D\u00e9cade de capacit\u00e9s, d\u00e9cades de r\u00e9sistances, bobine 9mH, cables bananes et adaptateurs BNC bananes\n",
                "\n",
                "## Connexion\n",
                "\n",
                "Il existe plusieurs type de connexion entre un ordinateur et un instrument. Citons le GPIB, le RS232, l'USB et l'ethernet. \n",
                "\n",
                "La GPIB et le RS232 sont des interfaces de communications qui sont obsol\u00e8tes, mais se trouvent encore fr\u00e9quemment sur des appareils. Ce sont des interfaces simples, puisqu'on \u00e9change des mots d'octets entre les deux appareils. Le RS232 est le port s\u00e9rie (COM sous windows). \n",
                "\n",
                "L'USB est beaucoup plus complexe car il ne d\u00e9finit par pr\u00e9cis\u00e9ment ce qui peut \u00eatre \u00e9chang\u00e9. Pour l'USB, il est n\u00e9cessaire d'avoir un driver pour chaque mode de communications. Comme mode de communication, citons l'\u00e9mulation d'un port s\u00e9rie (c'est par exemple ce que l'on retrouve sur les arduinos). Pour les instruments de mesure, une norme appel\u00e9e USBTMC est utilis\u00e9e par plusieurs fabricants (USB Test and Measurement Class). Certains fabricants peuvent cependant avoir d\u00e9velopp\u00e9 leur propre interface USB.\n",
                "\n",
                "Enfin, de plus en plus de d'instruments sont connect\u00e9s par ethernet. Les choses sont en g\u00e9n\u00e9ral beaucoup plus simples que l'USB car il n'y a pas besoin de driver sp\u00e9cifique. Des normes de communications existent pour les instrument, en particulier le VXI-11. \n",
                "\n",
                "Le VXI-11 et l'USBTMC ont pour but de remplacer le GPIB. Ces protocoles permettent d'\u00e9changer des instructions selon une norme pr\u00e9cise, le SCPI. \n",
                "\n",
                "## SCPI\n",
                "\n",
                "\n",
                "Le SCPI (Standard Commands for Programmable Instruments) est en quelque sorte la grammaire que l'on va utiliser. Par exemple, pour changer l'\u00e9chelle verticale d'un oscilloscope on peut envoyer le cha\u00eene : \"CH1:SCALE 10\". Pour conna\u00eetre l'\u00e9chelle verticale on va envoyer \"CH1:SCALE?\". L'instrument va alors renvoyer une cha\u00eene correspondant \u00e0 l'\u00e9chelle. Dans cet exemple, les mots pr\u00e9cis d\u00e9pendent de la marque de l'instrument. Ce que le SCPI d\u00e9fini est la syntaxe et quelques instructions de base. \n",
                "\n",
                "Les instructions sont regroup\u00e9es sous forme d'un arbre. Chaque \"branche\" est s\u00e9par\u00e9e par un \":\". Les arguments sont s\u00e9par\u00e9s de l'instruction par une espace et sont s\u00e9par\u00e9s entre eux par des virgules. Il est aussi possible de transf\u00e9rer des donn\u00e9es binaires. Lorsque l'instruction attend une r\u00e9ponse, alors elle est suivie d'un \"?\". \n",
                "\n",
                "Pour conna\u00eetre l'ensemble des commandes il faut se r\u00e9f\u00e9rer \u00e0 la partie de la documentation de l'instrument appel\u00e9e souvent Programmers' User Guide. \n",
                "\n",
                "Les instructions de base d'un instrument sont entre autre : \n",
                "\n",
                "* ``*IDN?`` qui renvoie une cha\u00eene d'identification unique de l'appareil. Cette cha\u00eene contient : ``<manufacturer>``,``<model number>``,``<serial number>``,``<software revision>`` \n",
                "* ``*RST`` qui fait un reset de l'appareil. \n",
                "\n",
                "Un dernier point important : le SCPI n'est pas sensible \u00e0 la casse. De plus chaque instruction poss\u00e8de une version courte et une version longue. Celles-ci sont en g\u00e9n\u00e9ral distingu\u00e9es par la casse. Par exemple \"CHannel1:SCAle\" signifie que l'on peut utiliser ind\u00e9pendamment CH ou CHANNEL et SCA ou SCALE. \n",
                "\n",
                "## VISA\n",
                "\n",
                "Sous Windows, il est possible d'utiliser un driver VISA qui fournit une interface commune, quelque soit le mode de connexion ou le protocole bas niveau de communication avec l'instrument. La librairie VISA est une librairie propri\u00e9taire gratuite fournie par National Instruments. Elle peut \u00eatre utilis\u00e9e sous Python avec le module pyvisa (qu'il faut installer en plus de VISA). \n",
                "\n",
                "Le logiciel NI-MAX est install\u00e9 en m\u00eame temps que VISA. Il permet entre autre de lister l'ensemble des appareils connect\u00e9 \u00e0 l'ordinateur et d'envoyer des instructions directement \u00e0 l'instrument. \n"
            ]
        },
        {
            "cell_type": "markdown",
            "metadata": {},
            "source": [
                "# Connexion\n",
                "\n",
                "\n",
                "1. Pr\u00e9paration : Manuellement, g\u00e9n\u00e9rez un signal sinuso\u00efdal de fr\u00e9quence 20 kHz, d'amplitude 5 Vpp et d'offset 0 V sur le channel 1 de votre g\u00e9n\u00e9rateur de fonction arbitraire. Mesurez votre signal \u00e0 l'aide de l'oscilloscope. Vous utiliserez la fonction \"trig\" sur un front descendant.\n",
                "\n",
                "2. Identifiez votre g\u00e9n\u00e9rateur de fr\u00e9quence arbitraire, en utilisant les commandes de pyvisa :\n",
                "\n",
                "        import pyvisa\n",
                "        rm = pyvisa.ResourceManager()\n",
                "        rm.list_resources()\n",
                "\n",
                "   "
            ]
        },
        {
            "cell_type": "markdown",
            "metadata": {},
            "source": [
                "Les commandes suivantes vous permettront de cr\u00e9er une connection avec votre instrument et de la tester\n",
                "\n",
                "\n",
                "        instrument = rm.open_resource(chaine_d_identification, query_delay=0.001)\n",
                "        instrument.query(\"*IDN?\")\n",
                "        \n",
                "L'argument optionel ``query_delay`` est indispensable pour le GBF.\n",
                "\n",
                "3. Cr\u00e9ez deux variables (``scope`` et ``gbf``) correspondant \u00e0 chacun de vos deux instruments"
            ]
        },
        {
            "cell_type": "markdown",
            "metadata": {},
            "source": [
                "4. Ecrivez une fonction, que l'on testera sur l'oscilloscope, qui renvoie un dictionnaire avec le nom de la compagnie, le nom du mod\u00e8le, et le num\u00e9ro de s\u00e9rie. "
            ]
        },
        {
            "cell_type": "markdown",
            "metadata": {},
            "source": [
                "# Interfa\u00e7age du g\u00e9n\u00e9rateur de fonction arbitraire"
            ]
        },
        {
            "cell_type": "markdown",
            "metadata": {},
            "source": [
                "1. Regardez dans la documentation l'instruction APPL. Programmez une sinuso\u00efde de fr\u00e9quence 3 kHz, d'amplitude 2 Vpp et avec un offset de 0.5 V."
            ]
        },
        {
            "cell_type": "markdown",
            "metadata": {
                "collapsed": true
            },
            "source": [
                "Il existe des commandes simples permettant de changer un param\u00e8tre unique, par exemple :\n",
                "\n",
                "        gbf.write('FREQ 1542')\n",
                "        gbf.query('FREQ?')\n",
                "\n",
                "Ces fonctions utilisent des cha\u00eenes de charact\u00e8res.\n",
                "  \n",
                "2. \u00c9crivez deux fonctions python ``set_frequency`` et ``get_frequency`` qui utilisent des nombres. \n",
                "\n",
                "3. Testez votre fonction ``set_frequency`` pour r\u00e9gler la fr\u00e9quence du signal \u00e0 1.123 MHz. Qu'observez vous \u00e0 l'oscilloscope ? Pourquoi ? \n"
            ]
        },
        {
            "cell_type": "markdown",
            "metadata": {
                "collapsed": true
            },
            "source": [
                "Nous rappelons la d\u00e9finition de la puissance en unit\u00e9 $dBm$:\n",
                "\n",
                "$P (dBm) = 10\\log(P (mW)) = 20\\log(\\frac{V_{rms}}{\\sqrt{0.001 R}}))$ \n",
                "\n",
                "o\u00f9 par convention $P$ est la puissance \u00e9lectrique dissip\u00e9e dans une r\u00e9sistance de $R=50$ Ohm. Nous rappelons aussi que $V_{pp}=2\\sqrt{2}V_{rms}$\n",
                "\n",
                "\n",
                "4. \u00c0 la main, avec la fonction utility, r\u00e9glez le GBF de fa\u00e7on \u00e0 pouvoir changer l'amplitude du signal en dBm. Pour cela, il faudra r\u00e9gler l'imp\u00e9dance de sortie du GBF en 50 Ohm. Quelle est l'amplitude Vpp du signal que vous mesurez sur l'oscilloscope ? Pourquoi ?"
            ]
        },
        {
            "cell_type": "markdown",
            "metadata": {},
            "source": [
                "5. Ecrivez une fonction python ``set_amplitude`` qui permet de changer l'amplitude du signal g\u00e9n\u00e9r\u00e9. Elle acceptera aussi l'unit\u00e9 Vpp, Vrms, dBm (l'unit\u00e9 par d\u00e9faut sera Vpp). Il faudra d'abord utiliser une commande pour changer l'unit\u00e9 et ensuite utiliser une commande pour ecrire la valeur de l'amplitude. Entre les deux commandes, on mettra une pause de 100 ms (``from time import sleep``)"
            ]
        },
        {
            "cell_type": "markdown",
            "metadata": {},
            "source": [
                "6. Ecrivez une fonction qui retourne un dictionnaire avec la forme, la fr\u00e9quence, l'amplitude et l'offset du signal actuellement g\u00e9n\u00e9r\u00e9 sur le channel 1. On utilisera la commande ``APPL?`` ."
            ]
        },
        {
            "cell_type": "markdown",
            "metadata": {},
            "source": [
                "7. *(si vous avez le temps)* Ecrivez une fonction qui permet de faire un saut de fr\u00e9quence de $\\delta f$. Cette fonction renvera une exception si la fr\u00e9quence finale n'est pas comprise entre 1 Hz et 5 MHz."
            ]
        },
        {
            "cell_type": "markdown",
            "metadata": {},
            "source": [
                "# Interfa\u00e7age de l'oscilloscope\n",
                "\n",
                "Comme pour le GBF, il y a un certain nombre de commandes que vous pouvez trouver dans la documentation :\n",
                "[DS1000DE_ProgrammingGuide_EN.pdf](https://www.batronix.com/pdf/Rigol/ProgrammingGuide/DS1000DE_ProgrammingGuide_EN.pdf)\n",
                "\n",
                "Par exemple la commande ``:TIMEBASE:SCALE`` permet de conna\u00eetre ou de programmer l'\u00e9chelle horizontale. \n",
                "\n",
                "1. Essayez cette commande."
            ]
        },
        {
            "cell_type": "markdown",
            "metadata": {},
            "source": [
                "La difficult\u00e9 particuli\u00e8re pour l'oscilloscope est de r\u00e9cup\u00e9rer la courbe affich\u00e9e sur celui-ci. La commande ``:WAVEFORM:DATA?`` va renvoyer les donner sous formes binaires. Qu'est-ce que cela signifie ? \n",
                "\n",
                "L'\u00e9change de donn\u00e9e entre l'oscilloscope et l'ordinateur se fait par l'\u00e9change d'une cha\u00eene d'octet. Lorsque l'on veut envoyer un mot (par exemple ``*IDN?``), celui ci va \u00eatre encod\u00e9 avec la table ASCII ([en.wikipedia.org/wiki/ASCII](https://en.wikipedia.org/wiki/ASCII)). Dans ce cas la suite d'octet sera (en d\u00e9cimale) ``42, 73, 68, 78, 63``. De la m\u00eame fa\u00e7on un nombre \u00e9crit en d\u00e9cimal peut \u00eatre encod\u00e9 en ASCII : par exemple ``12345`` donnera ``49, 50, 51, 52, 53``. Cependant, un nombre peut \u00eatre cod\u00e9 plus efficacement : en effet on peut \u00e9crire $12345 = 48\\times256 + 57$, et d\u00e9cider d'envoyer les deux octets ``48`` et``57``. C'est le codage binaire, codage utilis\u00e9 par notre oscilloscope. La diff\u00e9rence est le m\u00eame que celle qu'il y a entre ``np.savetxt`` et ``np.save``. \n",
                "  \n",
                "La librairie ``pyvisa`` est capable de d\u00e9coder automatiquement les donn\u00e9es binaires envoy\u00e9es par l'oscilloscope. Dans notre cas, les ordonn\u00e9es des points sont des entiers entre 0 et 256 et sont donc cod\u00e9es sur un seul octet. Cela correspond au type de donn\u00e9e 's' (short). On pourra r\u00e9cup\u00e9rer les donn\u00e9es \u00e0 l'aide de la commande \n",
                "\n",
                "  ``scope.query_binary_values(':WAVEFORM:DATA?', datatype='s')``\n",
                "\n",
                "2. Utilisez cette commande et affichez la courbe avec matplotlib."
            ]
        },
        {
            "cell_type": "markdown",
            "metadata": {},
            "source": [
                "On remarque que les valeurs sont \u00e0 l'envers (le haut correspond au bas) et qu'il faut les mettre \u00e0 l'\u00e9chelle. Cette op\u00e9ration n\u00e9c\u00e9ssite de conna\u00eetre plusieurs param\u00e8tres de l'oscilloscope et prend du temps \u00e0 coder. Nous ne le ferons pas.\n"
            ]
        },
        {
            "cell_type": "markdown",
            "metadata": {},
            "source": [
                "# Librairie tpmontrouge\n",
                "\n",
                "Une librairie a \u00e9t\u00e9 \u00e9crite afin de faciliter l'usage des instruments de la plateforme exp\u00e9rimentale de montrouge (particuli\u00e8rement la pr\u00e9paration \u00e0 l'agr\u00e9gation). L'id\u00e9e est d'avoir une interface pour chaque type d'instrument ind\u00e9pendament de la marque et du mod\u00e8le.\n",
                "\n",
                "La cr\u00e9ation des objets se fait de la fa\u00e7on suivante"
            ]
        },
        {
            "cell_type": "code",
            "execution_count": 40,
            "metadata": {
                "collapsed": true,
                "tags": [
                    "keep"
                ]
            },
            "outputs": [],
            "source": [
                "from tpmontrouge.instrument import Scope,GBF, get_first_instrument\n",
                "\n",
                "scope = get_first_instrument(Scope) # renvoie le premier instrument de type Scope qu'il trouve\n",
                "gbf = get_first_instrument(GBF)"
            ]
        },
        {
            "cell_type": "markdown",
            "metadata": {},
            "source": [
                "Le changement d'une valeur peut se faire de deux fa\u00e7on diff\u00e9rences : soit \u00e0 l'aide de fonction soit d'un ``property``. Par exemple : \n",
                "\n",
                "    gbf.set_frequency(10E3)\n",
                "    print(gbf.get_frequency())\n",
                "    \n",
                "    gbf.frequency = 10E3\n",
                "    print(gbf.frequency)\n",
                "\n",
                "\n",
                "Pour le GBF, nous avons d\u00e9fini les propri\u00e9t\u00e9s suivante : ``amplitude``, ``frequency``, ``offset``, ``function``\n",
                "\n",
                "Pour l'oscilloscope, nous avons plusieurs m\u00e9thodes ``autoset()``, ``start_acquisition()``, ``stop_acquisition()`` et beaucoup de propri\u00e9t\u00e9s. Voici un exemple : "
            ]
        },
        {
            "cell_type": "code",
            "execution_count": 99,
            "metadata": {
                "tags": [
                    "keep"
                ]
            },
            "outputs": [
                {
                    "name": "stdout",
                    "output_type": "stream",
                    "text": [
                        "Scale 0.0001 s/div\n",
                        "Offset 0.0 s\n"
                    ]
                }
            ],
            "source": [
                "print('Scale', scope.horizontal.scale, 's/div')\n",
                "sleep(0.01)\n",
                "print('Offset', scope.horizontal.offset, 's')\n",
                "sleep(0.01)\n",
                "scope.horizontal.scale = 1.0e-4 # s/div\n",
                "sleep(0.01)\n",
                "scope.horizontal.offset = 0.0E-3 # s\n",
                "sleep(0.01)\n",
                "\n",
                "scope.channel[1].coupling = 'AC'\n",
                "sleep(0.01)\n",
                "scope.channel[1].scale = 1.0\n",
                "sleep(1)\n",
                "wfm = scope.channel[1].get_waveform()"
            ]
        },
        {
            "cell_type": "markdown",
            "metadata": {},
            "source": [
                "Cette derni\u00e8re commande renvoie un objet qui contient toute les donn\u00e9es de la trace dont ``wfm.x_data`` et ``wfm.y_data``.\n",
                "\n",
                "3. Utilisez la librairie tpmontrouge pour initisaliser l'oscilloscope et r\u00e9cup\u00e9rer une trace"
            ]
        },
        {
            "cell_type": "markdown",
            "metadata": {},
            "source": [
                "# Ajustement (fit) d'une sinuso\u00efde avec un mod\u00e8le\n",
                "\n",
                "Voici un example de code permettant d'ajuster un jeu de donn\u00e9es par une droite. Nous verrons ceci plus en d\u00e9tails en cours. \n",
                "\n",
                "\n",
                "    from scipy.optimize import curve_fit\n",
                "    def droite(x, a, b):\n",
                "        return a*x+b\n",
                "    \n",
                "    p0 = (.5, 7) # param\u00e8tres initiaux\n",
                "    popt, pcov = curve_fit(droite, x_data, y_data, p0)\n",
                "\n",
                "\n",
                "Il est important de mettre des param\u00e8tres initiaux raisonnables sinon le fit ne convergera pas vers la bonne valeur. Pour cela on tracera la courbe avec ``p0`` (en utlisant ``*p0``)\n",
                "\n",
                "1. D\u00e9finissez une fonction sinuso\u00efdale avec les quatre param\u00e8tres pertinent : ``offset``, ``amplitude``, ``frequence``, ``phase``. Ajuster la sinuso\u00efde que vous avez r\u00e9cup\u00e9r\u00e9e avec l'oscilloscope. Affichez l'amplitude et la phase de la sinuso\u00efde. "
            ]
        },
        {
            "cell_type": "markdown",
            "metadata": {},
            "source": [
                "# Diagramme de Bode\n",
                "\n",
                "Nous avons maintenant tous les outils pour faire un diagramme de Bode. Nous proposons de monter le circuit suivant:\n",
                "\n",
                "![circuit rlc](rlc.pdf \"Circuit RLC\")\n",
                "\n",
                "On prendra typiquement $C = 500~\\mathrm{pF}$ et $R = 100~\\Omega$\n",
                "\n",
                "L'id\u00e9e consiste \u00e0 mesurer l'amplitude et la phase des deux sinuso\u00efdes (entr\u00e9e et sortie) \u00e0 l'aide de deux ajustement et de calculer ensuite le gain et le d\u00e9phasage.\n",
                "\n",
                "1. Faire un nouveau notebook pour prendre les points du diagramme de Bode et les enregistrer sur l'ordinateur. Avec un autre notebook, analyser les donn\u00e9es.\n",
                "\n",
                "   On pourra utliser la fonction autoset \u00e0 chaque nouvelle fr\u00e9quence (et attendre quelques secondes avant d'enregistrer les donn\u00e9es)."
            ]
        }
    ],
    "metadata": {
        "celltoolbar": "Tags",
        "kernelspec": {
            "display_name": "Python 3",
            "language": "python",
            "name": "python3"
        },
        "language_info": {
            "codemirror_mode": {
                "name": "ipython",
                "version": 3
            },
            "file_extension": ".py",
            "mimetype": "text/x-python",
            "name": "python",
            "nbconvert_exporter": "python",
            "pygments_lexer": "ipython3",
            "version": "3.8.8"
        }
    },
    "nbformat": 4,
    "nbformat_minor": 2
}
