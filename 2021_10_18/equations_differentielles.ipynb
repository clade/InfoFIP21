{
 "cells": [
  {
   "cell_type": "markdown",
   "metadata": {},
   "source": [
    "*Fonctions dont nous aurons besoin*"
   ]
  },
  {
   "cell_type": "code",
   "execution_count": null,
   "metadata": {
    "tags": [
     "keep"
    ]
   },
   "outputs": [],
   "source": [
    "import matplotlib.pyplot as plt\n",
    "\n",
    "import numpy as np\n",
    "from numpy import pi\n",
    "\n",
    "from scipy.integrate import solve_ivp"
   ]
  },
  {
   "cell_type": "markdown",
   "metadata": {},
   "source": [
    "# Le pendule\n",
    "\n",
    "On considère l'équation :\n",
    "$$ \\theta^{\\prime\\prime} = -\\sin{\\theta}$$\n",
    "\n",
    "Pour résoudre cette équation, on définit le tableau $y(t) = (\\theta(t), \\theta^\\prime(t))$. \n",
    "\n",
    "1. Écrire la fonction Python ``f(t, y)`` qui renvoie la dérivée de $y$\n",
    "\n",
    "2. Résoudre et tracer le resultat de l'équation différentielle pour les conditions initiales : $\\theta(0) = 2\\pi/4$ et $\\theta^\\prime(0) = 0$\n",
    "\n",
    "3. Vérifier que l'énergie totale est conservée"
   ]
  },
  {
   "cell_type": "code",
   "execution_count": null,
   "metadata": {},
   "outputs": [],
   "source": [
    "def f(t, y):\n",
    "    theta, theta_prime = y\n",
    "    return np.array([theta_prime, -np.sin(theta)])\n"
   ]
  },
  {
   "cell_type": "code",
   "execution_count": null,
   "metadata": {},
   "outputs": [],
   "source": [
    "t_eval = np.linspace(0, 10)\n",
    "\n",
    "res = solve_ivp(f, [0, 10], [3*np.pi/4, 0], t_eval=t_eval)\n",
    "\n",
    "\n",
    "plt.plot(res.t, res.y[0])\n",
    "plt.xlabel('t')\n",
    "plt.ylabel(r'$\\theta$')"
   ]
  },
  {
   "cell_type": "code",
   "execution_count": null,
   "metadata": {},
   "outputs": [],
   "source": [
    "energie_potentielle = -np.cos(res.y[0])\n",
    "energie_cinetique = res.y[1]**2/2\n",
    "\n",
    "plt.plot(res.t, energie_potentielle, label='Pot.')\n",
    "plt.plot(res.t, energie_cinetique, label='Cin.')\n",
    "plt.plot(res.t,  energie_potentielle + energie_cinetique, label='tot.')\n",
    "plt.legend()"
   ]
  },
  {
   "cell_type": "markdown",
   "metadata": {},
   "source": [
    "# Nuage d'ions"
   ]
  },
  {
   "cell_type": "markdown",
   "metadata": {},
   "source": [
    "On considère un nuage de $N$ ions de masse $m$ et charge $q$. On note $\\vec{r_i}$ et $\\vec{v_i}$ la position et la vitesse du ième ion. Les ions sont dans un piège électrostatique. De plus, ils interagissent entre eux par la force de Coulomb. \n",
    "\n",
    "La force électrostatique dérive d'un potentiel électrostatique :\n",
    "\n",
    "$$V(\\vec{r}) = \\frac12 k_x r_x^2 +\\frac12 k_y r_y^2 + \\frac12 k_z r_z^2$$\n",
    "\n",
    "La force de Coulomb s'écrira sous la forme:\n",
    "\n",
    "$$\\vec{f_i}(\\vec{r_i}, \\vec{r_j}) = \\kappa \\frac{q^2}{|\\vec{r_i} - \\vec{r_j}|^3}(\\vec{r_i} - \\vec{r_j})$$\n",
    "\n",
    "Pour simplifier et avoir une meilleure représentation graphique, on suprimera totalement la dimension $z$. \n",
    "\n",
    "On utilisera des unités adimensionnées avec des constantes de l'ordre de 1. Par défaut on prendra : $m=9$, $q=1$, $k_x=1$, $k_y=1.3$, $\\kappa=1$.\n",
    "\n",
    "L'état des $N$ particules à un instant donné est représenté par 4 tableaux numpy de taille $N$: ``r_x``, ``r_y``, ``v_x``, ``v_y``. Toutes les fonctions seront écrites avec ces variables. On ne regroupera les 4 tableaux que dans la fonction ``f(t, y)`` qui sera utilisée par ``solve_ivp``.\n",
    "\n",
    "Le tableau ``y`` est défini en rassemblant les 4 tableaux numpy. On définit alors les fonctions ``join`` et ``split`` (voir ci-dessous)\n",
    "\n",
    "Les paramètres seront des constantes globales.\n",
    "\n",
    "1. Écrire la fonction ``force_piege(r_x, r_y)`` qui renvoie la force dérivant du potentiel (``f_x`` et ``f_y``).\n",
    "\n",
    "2. Écrire la fonction ``force_coulomb(r_x, r_y)`` qui renvoie $f_x$ et $f_y$, la force de Coulomb. On ne cherchera pas à éviter les boucles for dans cette fonction.\n",
    "        \n",
    "3. Écrire la fonction ``f(t, y)`` qui définit la dynamique du problème.\n",
    "\n",
    "4. On condidère un nuage avec une distribution initiale donnée par une loi de Maxwell-Boltzmann (avec $k_B=1$ et $T=1$) pour les particules sans interaction. Calculer jusqu'au temps $T=20$ l'évolution de la position des particules.\n",
    "\n",
    "5. Vérifier que l'énergie totale est conservée. On utilisera les fonctions ci-dessous.\n",
    "\n",
    "6. Faire une animation (voir exemple de code ci dessous)\n",
    "\n",
    "7. On rajoute une force de dissipation, selon l'axe $x$ : \n",
    "\n",
    "   $$ \\vec F_{i,x} = -\\alpha v_{i, x} $$\n",
    "  \n",
    "   Simuler l'experience en prenant $\\alpha = 0.1$ et $N=20$. Que se passe-t-il au temps long ?\n",
    "   \n",
    "8. Utiliser le decorateur ``jit`` de numba pour accélérer le code. Faire une comparaison de vitesse.    "
   ]
  },
  {
   "cell_type": "code",
   "execution_count": null,
   "metadata": {
    "tags": [
     "keep"
    ]
   },
   "outputs": [],
   "source": [
    "# Paramètres\n",
    "m = 9; q = 1\n",
    "k_x, k_y = 1, 1.3\n",
    "kappa=1\n",
    "k_B = 1\n",
    "T = 1"
   ]
  },
  {
   "cell_type": "code",
   "execution_count": null,
   "metadata": {
    "tags": [
     "keep"
    ]
   },
   "outputs": [],
   "source": [
    "# Fonction pour passer de 4 tableaux à un seul et réciproquement\n",
    "def join(r_x, r_y, v_x, v_y):\n",
    "    return np.concatenate((r_x, r_y, v_x, v_y))\n",
    "\n",
    "def split(y):\n",
    "    N = len(y)//4\n",
    "    return y[:N], y[N:2*N], y[2*N:3*N], y[3*N:4*N]"
   ]
  },
  {
   "cell_type": "code",
   "execution_count": null,
   "metadata": {
    "tags": [
     "keep"
    ]
   },
   "outputs": [],
   "source": [
    "# Calcul de l'énergie\n",
    "def energie_cinetique(r_x, r_y, v_x, v_y):\n",
    "    return np.sum(.5*m*v_x**2 + .5*m*v_y**2)\n",
    "\n",
    "def energie_piege(r_x, r_y):\n",
    "    return np.sum(k_x*r_x**2/2 + k_y*r_y**2/2)\n",
    "\n",
    "def energie_coulomb(r_x, r_y):\n",
    "    N = len(r_x)\n",
    "    total = 0\n",
    "    for i in range(N-1):\n",
    "        for j in range(i+1, N):\n",
    "            d2 = (r_x[i]-r_x[j])**2 + (r_y[i]-r_y[j])**2\n",
    "            total += kappa*q**2/np.sqrt(d2)\n",
    "    return total\n",
    "\n",
    "def energie_totale(r_x, r_y, v_x, v_y):\n",
    "    return (energie_coulomb(r_x, r_y) +\n",
    "            energie_piege(r_x, r_y) +\n",
    "            energie_cinetique(r_x, r_y, v_x, v_y))\n"
   ]
  },
  {
   "cell_type": "code",
   "execution_count": null,
   "metadata": {},
   "outputs": [],
   "source": [
    "def force_piege(r_x, r_y):\n",
    "    return -k_x*r_x, -k_y*r_y\n",
    "\n",
    "def force_coulomb(r_x, r_y):\n",
    "    N = len(r_x)\n",
    "    f_x = np.zeros(N)\n",
    "    f_y = np.zeros(N)\n",
    "    for i in range(N):\n",
    "        tot_x, tot_y = 0, 0\n",
    "        for j in range(N):\n",
    "            if i!=j:\n",
    "                d2 = (r_x[i]-r_x[j])**2 + (r_y[i]-r_y[j])**2\n",
    "                coef = kappa*q**2/(np.sqrt(d2)**3)\n",
    "                tot_x += coef*(r_x[i]-r_x[j])\n",
    "                tot_y += coef*(r_y[i]-r_y[j])\n",
    "        f_x[i] = tot_x\n",
    "        f_y[i] = tot_y\n",
    "    return f_x, f_y\n"
   ]
  },
  {
   "cell_type": "code",
   "execution_count": null,
   "metadata": {},
   "outputs": [],
   "source": [
    "def force_totale(r_x, r_y, v_x, v_y):\n",
    "    piege = force_piege(r_x, r_y)\n",
    "    coulomb = force_coulomb(r_x, r_y)\n",
    "    return piege[0]+coulomb[0], piege[1]+coulomb[1]\n",
    "\n",
    "def f(t, y):\n",
    "    r_x, r_y, v_x, v_y = split(y)\n",
    "    f_x, f_y = force_totale(r_x, r_y, v_x, v_y)\n",
    "    return join(v_x, v_y, f_x/m, f_y/m)"
   ]
  },
  {
   "cell_type": "code",
   "execution_count": null,
   "metadata": {},
   "outputs": [],
   "source": [
    "N = 50\n",
    "\n",
    "r_x_0 = np.random.normal(size=N)\n",
    "r_y_0 = np.random.normal(size=N)\n",
    "v_x_0 = np.random.normal(scale=1/np.sqrt(m), size=N)\n",
    "v_y_0 = np.random.normal(scale=1/np.sqrt(m), size=N)\n",
    "\n",
    "t_max = 20\n",
    "t_eval = np.linspace(0, t_max, 51)\n",
    "res = solve_ivp(f, [0, t_max], join(r_x_0, r_y_0, v_x_0, v_y_0), \n",
    "               t_eval=t_eval)\n"
   ]
  },
  {
   "cell_type": "code",
   "execution_count": null,
   "metadata": {},
   "outputs": [],
   "source": [
    "energie = []\n",
    "for i, t in enumerate(t_eval):\n",
    "    r_x, r_y, v_x, v_y = split(res.y[:,i])\n",
    "    energie.append(energie_totale(r_x, r_y, v_x, v_y))\n",
    "energie = np.array(energie)\n",
    "plt.plot(t_eval, energie)"
   ]
  },
  {
   "cell_type": "code",
   "execution_count": null,
   "metadata": {
    "tags": [
     "keep"
    ]
   },
   "outputs": [],
   "source": [
    "# Pour afficher une animation\n",
    "# res est le tableau provenant de solve_ivp\n",
    "\n",
    "from IPython.display import HTML\n",
    "import matplotlib.animation\n",
    "\n",
    "fig, ax = plt.subplots()\n",
    "l, = ax.plot(split(res.y[:,0])[0], split(res.y[:,0])[1], 'o')\n",
    "ax.set_xlim(-10, 10)\n",
    "ax.set_ylim(-10, 10)\n",
    "\n",
    "def animate(i):\n",
    "    r_x, r_y, v_x, v_y = split(res.y[:,i])\n",
    "    l.set_data(r_x, r_y)\n",
    "\n",
    "ani = matplotlib.animation.FuncAnimation(fig, \n",
    "                                         animate, \n",
    "                                         frames=len(res.t))\n",
    "\n",
    "\n",
    "HTML(ani.to_jshtml())"
   ]
  },
  {
   "cell_type": "code",
   "execution_count": null,
   "metadata": {},
   "outputs": [],
   "source": []
  },
  {
   "cell_type": "code",
   "execution_count": null,
   "metadata": {},
   "outputs": [],
   "source": [
    "alpha = 0.1\n",
    "def force_friction(r_x, r_y, v_x, v_y):\n",
    "    return -alpha*v_x, 0*v_y\n",
    "\n",
    "def force_totale(r_x, r_y, v_x, v_y):\n",
    "    piege = force_piege(r_x, r_y)\n",
    "    coulomb = force_coulomb(r_x, r_y)\n",
    "    friction = force_friction(r_x, r_y, v_x, v_y)\n",
    "    return piege[0]+coulomb[0]+friction[0], piege[1]+coulomb[1]+friction[0]\n",
    "\n",
    "\n",
    "\n",
    "def f(t, y):\n",
    "    r_x, r_y, v_x, v_y = split(y)\n",
    "    f_x, f_y = force_totale(r_x, r_y, v_x, v_y)\n",
    "    return join(v_x, v_y, f_x/m, f_y/m)"
   ]
  },
  {
   "cell_type": "code",
   "execution_count": null,
   "metadata": {},
   "outputs": [],
   "source": [
    "N = 20\n",
    "\n",
    "r_x_0 = np.random.normal(size=N)\n",
    "r_y_0 = np.random.normal(size=N)\n",
    "v_x_0 = np.random.normal(scale=1/np.sqrt(m), size=N)\n",
    "v_y_0 = np.random.normal(scale=1/np.sqrt(m), size=N)\n",
    "\n",
    "t_max = 1500\n",
    "t_eval=np.linspace(0, t_max, 400)\n",
    "res = solve_ivp(f, [0, t_max], join(r_x_0, r_y_0, v_x_0, v_y_0), \n",
    "               t_eval=t_eval)\n"
   ]
  },
  {
   "cell_type": "code",
   "execution_count": null,
   "metadata": {},
   "outputs": [],
   "source": [
    "energie = []\n",
    "for i, t in enumerate(t_eval):\n",
    "    r_x, r_y, v_x, v_y = split(res.y[:,i])\n",
    "    energie.append(energie_cinetique(r_x, r_y, v_x, v_y))\n",
    "energie = np.array(energie)\n",
    "plt.semilogy(t_eval, energie)"
   ]
  },
  {
   "cell_type": "code",
   "execution_count": null,
   "metadata": {},
   "outputs": [],
   "source": [
    "fig, ax = plt.subplots()\n",
    "l, = ax.plot(split(res.y[:,0])[0], split(res.y[:,0])[1], 'o')\n",
    "ax.set_xlim(-10, 10)\n",
    "ax.set_ylim(-10, 10)\n",
    "\n",
    "def animate(i):\n",
    "    r_x, r_y, v_x, v_y = split(res.y[:,i])\n",
    "    l.set_data(r_x, r_y)\n",
    "\n",
    "ani = matplotlib.animation.FuncAnimation(fig, \n",
    "                                         animate, \n",
    "                                         frames=len(res.t),\n",
    "                                        interval=100)\n",
    "\n",
    "\n",
    "HTML(ani.to_jshtml())"
   ]
  },
  {
   "cell_type": "code",
   "execution_count": 6,
   "metadata": {},
   "outputs": [
    {
     "name": "stdout",
     "output_type": "stream",
     "text": [
      "[NbConvertApp] Converting notebook TD equations differentielles.ipynb to pdf\n",
      "[NbConvertApp] Writing 29634 bytes to notebook.tex\n",
      "[NbConvertApp] Building PDF\n",
      "[NbConvertApp] Running xelatex 3 times: ['xelatex', 'notebook.tex', '-quiet']\n",
      "[NbConvertApp] Running bibtex 1 time: ['bibtex', 'notebook']\n",
      "[NbConvertApp] WARNING | bibtex had problems, most likely because there were no citations\n",
      "[NbConvertApp] PDF successfully created\n",
      "[NbConvertApp] Writing 51632 bytes to build/TD equations differentielles.pdf\n"
     ]
    }
   ],
   "source": [
    "!python remove_cells.py equations_differentielles.ipynb > \"TD equations differentielles.ipynb\"\n",
    "!jupyter nbconvert --to pdf --output-dir=build \"TD equations differentielles.ipynb\"\n",
    "####!jupyter nbconvert --to pdf --output-dir=build \"Statistics.ipynb\""
   ]
  },
  {
   "cell_type": "code",
   "execution_count": null,
   "metadata": {},
   "outputs": [],
   "source": []
  }
 ],
 "metadata": {
  "celltoolbar": "Tags",
  "kernelspec": {
   "display_name": "Python 3",
   "language": "python",
   "name": "python3"
  },
  "language_info": {
   "codemirror_mode": {
    "name": "ipython",
    "version": 3
   },
   "file_extension": ".py",
   "mimetype": "text/x-python",
   "name": "python",
   "nbconvert_exporter": "python",
   "pygments_lexer": "ipython3",
   "version": "3.8.8"
  }
 },
 "nbformat": 4,
 "nbformat_minor": 2
}
