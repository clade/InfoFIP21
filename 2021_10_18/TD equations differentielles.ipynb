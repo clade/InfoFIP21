{
    "cells": [
        {
            "cell_type": "markdown",
            "metadata": {},
            "source": [
                "*Fonctions dont on aura besoin*"
            ]
        },
        {
            "cell_type": "code",
            "execution_count": null,
            "metadata": {
                "tags": [
                    "keep"
                ]
            },
            "outputs": [],
            "source": [
                "import matplotlib.pyplot as plt\n",
                "\n",
                "import numpy as np\n",
                "from numpy import pi\n",
                "\n",
                "from scipy.integrate import solve_ivp"
            ]
        },
        {
            "cell_type": "markdown",
            "metadata": {},
            "source": [
                "# Le pendule\n",
                "\n",
                "On consid\u00e8re l'\u00e9quation :\n",
                "$$ \\theta^{\\prime\\prime} = -\\sin{\\theta}$$\n",
                "\n",
                "Pour r\u00e9soudre cette \u00e9quation, on d\u00e9finie le tableau $y(t) = (\\theta(t), \\theta^\\prime(t))$. \n",
                "\n",
                "1. Ecrire la fonction Python ``f(t, y)`` qui renvoie la d\u00e9riv\u00e9e de $y$\n",
                "\n",
                "2. R\u00e9soudre et tracer le resultat de l'\u00e9quation diff\u00e9rentielle pour les conditions initiales : $\\theta(0) = 2\\pi/4$ et $\\theta^\\prime(0) = 0$\n",
                "\n",
                "3. V\u00e9rifier que l'\u00e9nergie totale est conserv\u00e9e"
            ]
        },
        {
            "cell_type": "markdown",
            "metadata": {},
            "source": [
                "# Nuage d'ions"
            ]
        },
        {
            "cell_type": "markdown",
            "metadata": {},
            "source": [
                "On consid\u00e8re un nuage de $N$ ions de masse $m$ et charge $q$. On note $\\vec{r_i}$ et $\\vec{v_i}$ la position et la vitesse du i\u00e8me ion. Les ions sont dans un pi\u00e8ge \u00e9lectrostatique. De plus, ils interagissent entre eux par la force de Coulomb. \n",
                "\n",
                "La force \u00e9lectrostatique d\u00e9rive d'un potentiel \u00e9lectrostatique :\n",
                "\n",
                "$$V(\\vec{r}) = \\frac12 k_x r_x^2 +\\frac12 k_y r_y^2 + \\frac12 k_z r_z^2$$\n",
                "\n",
                "La force de Coulomb s'\u00e9crira sous la forme:\n",
                "\n",
                "$$\\vec{f_i}(\\vec{r_i}, \\vec{r_j}) = \\kappa \\frac{q^2}{|\\vec{r_i} - \\vec{r_j}|^3}(\\vec{r_i} - \\vec{r_j})$$\n",
                "\n",
                "Pour simplifier et avoir une meilleure repr\u00e9sentation graphique, on suprimera totalement la dimension $z$. \n",
                "\n",
                "On utilisera des unit\u00e9s adimensionn\u00e9es avec des constantes de l'ordre de 1. Par d\u00e9faut on prendra : $m=9$, $q=1$, $k_x=1$, $k_y=1.3$, $\\kappa=1$.\n",
                "\n",
                "L'\u00e9tat des $N$ particules \u00e0 un instant donn\u00e9 est repr\u00e9sent\u00e9 par 4 tableaux numpy de taille $N$: ``r_x``, ``r_y``, ``v_x``, ``v_y``. Toutes les fonctions seront \u00e9crites avec ces variables. On ne regroupera les 4 tableaux que dans la fonction ``f(t, y)`` qui sera utilis\u00e9 par ``solve_ivp``.\n",
                "\n",
                "Le tableau ``y`` est d\u00e9fini en rassemblant les 4 tableaux numpy. On d\u00e9finit les fonctions ``join`` et ``split`` (voir ci-dessous)\n",
                "\n",
                "Les param\u00e8tres seront des constantes globales.\n",
                "\n",
                "\n",
                "1. Ecrire la fonction ``force_piege(r_x, r_y)`` qui renvoie la force d\u00e9rivant du potentiel (``f_x`` et ``f_y``).\n",
                "\n",
                "2. Ecrire la fonction ``force_coulomb(r_x, r_y)`` qui renvoie $f_x$ et $f_y$, la force de Coulomb. On ne cherchera pas \u00e0 \u00e9viter les boucles for dans cette fonction.\n",
                "        \n",
                "3. Ecrire la fonction ``f(t, y)`` qui d\u00e9finit la dynamique du probl\u00e8me.\n",
                "\n",
                "4. On condid\u00e8re un nuage avec une distribution initiale donn\u00e9e par une loi de Maxwell-Boltzmann (avec $k_B=1$ et $T=1$) pour les particules sans interaction. Calculer jusqu'au temps $T=20$ l'\u00e9volution de la position des particules.\n",
                "\n",
                "5. V\u00e9rifier que l'\u00e9nergie totale est conserv\u00e9e. On utilisera les fonctions ci-dessous.\n",
                "\n",
                "6. Faire une animation (voir exemple de code ci dessous)\n",
                "\n",
                "7. On rajoute une force de dissipation, selon l'axe $x$ : \n",
                "\n",
                "   $$ \\vec F_{i,x} = -\\alpha v_{i, x} $$\n",
                "  \n",
                "   Simuler l'experience en prenant $\\alpha = 0.1$ et $N=20$. Que se passe-t-il au temps long ?\n",
                "   \n",
                "8. Utiliser le decorateur ``jit`` de numba pour acc\u00e9l\u00e9rer le code. Faire une comparaison de vitesse.    "
            ]
        },
        {
            "cell_type": "code",
            "execution_count": null,
            "metadata": {
                "tags": [
                    "keep"
                ]
            },
            "outputs": [],
            "source": [
                "# Param\u00e8tres\n",
                "m = 9; q = 1\n",
                "k_x, k_y = 1, 1.3\n",
                "kappa=1\n",
                "k_B = 1\n",
                "T = 1"
            ]
        },
        {
            "cell_type": "code",
            "execution_count": null,
            "metadata": {
                "tags": [
                    "keep"
                ]
            },
            "outputs": [],
            "source": [
                "# Fonction pour passer de 4 tableaux \u00e0 un seul et r\u00e9ciproquement\n",
                "def join(r_x, r_y, v_x, v_y):\n",
                "    return np.concatenate((r_x, r_y, v_x, v_y))\n",
                "\n",
                "def split(y):\n",
                "    N = len(y)//4\n",
                "    return y[:N], y[N:2*N], y[2*N:3*N], y[3*N:4*N]"
            ]
        },
        {
            "cell_type": "code",
            "execution_count": null,
            "metadata": {
                "tags": [
                    "keep"
                ]
            },
            "outputs": [],
            "source": [
                "# Calcul de l'\u00e9nergie\n",
                "def energie_cinetique(r_x, r_y, v_x, v_y):\n",
                "    return np.sum(.5*m*v_x**2 + .5*m*v_y**2)\n",
                "\n",
                "def energie_piege(r_x, r_y):\n",
                "    return np.sum(k_x*r_x**2/2 + k_y*r_y**2/2)\n",
                "\n",
                "def energie_coulomb(r_x, r_y):\n",
                "    N = len(r_x)\n",
                "    total = 0\n",
                "    for i in range(N-1):\n",
                "        for j in range(i+1, N):\n",
                "            d2 = (r_x[i]-r_x[j])**2 + (r_y[i]-r_y[j])**2\n",
                "            total += kappa*q**2/np.sqrt(d2)\n",
                "    return total\n",
                "\n",
                "def energie_totale(r_x, r_y, v_x, v_y):\n",
                "    return (energie_coulomb(r_x, r_y) +\n",
                "            energie_piege(r_x, r_y) +\n",
                "            energie_cinetique(r_x, r_y, v_x, v_y))\n"
            ]
        },
        {
            "cell_type": "code",
            "execution_count": null,
            "metadata": {
                "tags": [
                    "keep"
                ]
            },
            "outputs": [],
            "source": [
                "# Pour afficher une animation\n",
                "# res est le tableau provenant de solve_ivp\n",
                "\n",
                "from IPython.display import HTML\n",
                "import matplotlib.animation\n",
                "\n",
                "fig, ax = plt.subplots()\n",
                "l, = ax.plot(split(res.y[:,0])[0], split(res.y[:,0])[1], 'o')\n",
                "ax.set_xlim(-10, 10)\n",
                "ax.set_ylim(-10, 10)\n",
                "\n",
                "def animate(i):\n",
                "    r_x, r_y, v_x, v_y = split(res.y[:,i])\n",
                "    l.set_data(r_x, r_y)\n",
                "\n",
                "ani = matplotlib.animation.FuncAnimation(fig, \n",
                "                                         animate, \n",
                "                                         frames=len(res.t))\n",
                "\n",
                "\n",
                "HTML(ani.to_jshtml())"
            ]
        }
    ],
    "metadata": {
        "celltoolbar": "Tags",
        "kernelspec": {
            "display_name": "Python 3",
            "language": "python",
            "name": "python3"
        },
        "language_info": {
            "codemirror_mode": {
                "name": "ipython",
                "version": 3
            },
            "file_extension": ".py",
            "mimetype": "text/x-python",
            "name": "python",
            "nbconvert_exporter": "python",
            "pygments_lexer": "ipython3",
            "version": "3.8.8"
        }
    },
    "nbformat": 4,
    "nbformat_minor": 2
}
